{
  "nbformat": 4,
  "nbformat_minor": 0,
  "metadata": {
    "colab": {
      "provenance": []
    },
    "kernelspec": {
      "name": "python3",
      "display_name": "Python 3"
    },
    "language_info": {
      "name": "python"
    }
  },
  "cells": [
    {
      "cell_type": "code",
      "execution_count": 1,
      "metadata": {
        "id": "cgOSSEO9uMug"
      },
      "outputs": [],
      "source": [
        "import pandas as pd\n",
        "import io"
      ]
    },
    {
      "cell_type": "code",
      "source": [
        "with open('/content/merged_file.csv', encoding='utf-8', errors='replace') as f:\n",
        "    data = f.read()\n",
        "\n",
        "df = pd.read_csv(io.StringIO(data))"
      ],
      "metadata": {
        "id": "W4rgrXZrukYj"
      },
      "execution_count": 2,
      "outputs": []
    },
    {
      "cell_type": "code",
      "source": [
        "df"
      ],
      "metadata": {
        "colab": {
          "base_uri": "https://localhost:8080/",
          "height": 467
        },
        "id": "iwtmYUAguluS",
        "outputId": "595c62f8-2a3f-430e-ce6b-e4b701f3ee57"
      },
      "execution_count": 3,
      "outputs": [
        {
          "output_type": "execute_result",
          "data": {
            "text/plain": [
              "       Unnamed: 0_x           ids  \\\n",
              "0                 0  1.301327e+18   \n",
              "1                 0  1.301327e+18   \n",
              "2                 1  1.307995e+18   \n",
              "3                 1  1.307995e+18   \n",
              "4                 6  1.321068e+18   \n",
              "...             ...           ...   \n",
              "27291          9337  1.285298e+18   \n",
              "27292          9339  1.282019e+18   \n",
              "27293          9340  1.302504e+18   \n",
              "27294          9341  1.294151e+18   \n",
              "27295          9342  1.314466e+18   \n",
              "\n",
              "                                                    text  Unnamed: 0_y Label  \\\n",
              "0      @TRTArabi ال سلول الجبان الذليل المنافق كلب من...         52252     T   \n",
              "1      @TRTArabi ال سلول الجبان الذليل المنافق كلب من...         52252     T   \n",
              "2      @TRTArabi الا يا ال زايد خبرونا \\nأما فيكم من ...         52254     T   \n",
              "3      @TRTArabi الا يا ال زايد خبرونا \\nأما فيكم من ...         52254     T   \n",
              "4                                                    NaN         52259     T   \n",
              "...                                                  ...           ...   ...   \n",
              "27291  @TRLuxuryFurni84 يارررررب...نفرح بزوال حكم أل ...         52244     T   \n",
              "27292               @Trseso90 الحق على ال سلول هم خطفوهم         52247     T   \n",
              "27293  @Trt10616790 @SalaheddinMora1 @Mohdelmoctar @m...         52248     T   \n",
              "27294  @trt123430 @T1beCVnnEzLlKzO @DrAlnefisi لما شر...         52249     T   \n",
              "27295  @TRTArabi @mshinqiti آل سلول ...\\nيفضحون أنفسه...         52250     T   \n",
              "\n",
              "       tweet  \n",
              "0      empty  \n",
              "1      empty  \n",
              "2      empty  \n",
              "3      empty  \n",
              "4      empty  \n",
              "...      ...  \n",
              "27291  empty  \n",
              "27292  empty  \n",
              "27293  empty  \n",
              "27294  empty  \n",
              "27295  empty  \n",
              "\n",
              "[27296 rows x 6 columns]"
            ],
            "text/html": [
              "\n",
              "  <div id=\"df-55e063b2-76fb-45de-bd1d-afc5cb7daeb9\">\n",
              "    <div class=\"colab-df-container\">\n",
              "      <div>\n",
              "<style scoped>\n",
              "    .dataframe tbody tr th:only-of-type {\n",
              "        vertical-align: middle;\n",
              "    }\n",
              "\n",
              "    .dataframe tbody tr th {\n",
              "        vertical-align: top;\n",
              "    }\n",
              "\n",
              "    .dataframe thead th {\n",
              "        text-align: right;\n",
              "    }\n",
              "</style>\n",
              "<table border=\"1\" class=\"dataframe\">\n",
              "  <thead>\n",
              "    <tr style=\"text-align: right;\">\n",
              "      <th></th>\n",
              "      <th>Unnamed: 0_x</th>\n",
              "      <th>ids</th>\n",
              "      <th>text</th>\n",
              "      <th>Unnamed: 0_y</th>\n",
              "      <th>Label</th>\n",
              "      <th>tweet</th>\n",
              "    </tr>\n",
              "  </thead>\n",
              "  <tbody>\n",
              "    <tr>\n",
              "      <th>0</th>\n",
              "      <td>0</td>\n",
              "      <td>1.301327e+18</td>\n",
              "      <td>@TRTArabi ال سلول الجبان الذليل المنافق كلب من...</td>\n",
              "      <td>52252</td>\n",
              "      <td>T</td>\n",
              "      <td>empty</td>\n",
              "    </tr>\n",
              "    <tr>\n",
              "      <th>1</th>\n",
              "      <td>0</td>\n",
              "      <td>1.301327e+18</td>\n",
              "      <td>@TRTArabi ال سلول الجبان الذليل المنافق كلب من...</td>\n",
              "      <td>52252</td>\n",
              "      <td>T</td>\n",
              "      <td>empty</td>\n",
              "    </tr>\n",
              "    <tr>\n",
              "      <th>2</th>\n",
              "      <td>1</td>\n",
              "      <td>1.307995e+18</td>\n",
              "      <td>@TRTArabi الا يا ال زايد خبرونا \\nأما فيكم من ...</td>\n",
              "      <td>52254</td>\n",
              "      <td>T</td>\n",
              "      <td>empty</td>\n",
              "    </tr>\n",
              "    <tr>\n",
              "      <th>3</th>\n",
              "      <td>1</td>\n",
              "      <td>1.307995e+18</td>\n",
              "      <td>@TRTArabi الا يا ال زايد خبرونا \\nأما فيكم من ...</td>\n",
              "      <td>52254</td>\n",
              "      <td>T</td>\n",
              "      <td>empty</td>\n",
              "    </tr>\n",
              "    <tr>\n",
              "      <th>4</th>\n",
              "      <td>6</td>\n",
              "      <td>1.321068e+18</td>\n",
              "      <td>NaN</td>\n",
              "      <td>52259</td>\n",
              "      <td>T</td>\n",
              "      <td>empty</td>\n",
              "    </tr>\n",
              "    <tr>\n",
              "      <th>...</th>\n",
              "      <td>...</td>\n",
              "      <td>...</td>\n",
              "      <td>...</td>\n",
              "      <td>...</td>\n",
              "      <td>...</td>\n",
              "      <td>...</td>\n",
              "    </tr>\n",
              "    <tr>\n",
              "      <th>27291</th>\n",
              "      <td>9337</td>\n",
              "      <td>1.285298e+18</td>\n",
              "      <td>@TRLuxuryFurni84 يارررررب...نفرح بزوال حكم أل ...</td>\n",
              "      <td>52244</td>\n",
              "      <td>T</td>\n",
              "      <td>empty</td>\n",
              "    </tr>\n",
              "    <tr>\n",
              "      <th>27292</th>\n",
              "      <td>9339</td>\n",
              "      <td>1.282019e+18</td>\n",
              "      <td>@Trseso90 الحق على ال سلول هم خطفوهم</td>\n",
              "      <td>52247</td>\n",
              "      <td>T</td>\n",
              "      <td>empty</td>\n",
              "    </tr>\n",
              "    <tr>\n",
              "      <th>27293</th>\n",
              "      <td>9340</td>\n",
              "      <td>1.302504e+18</td>\n",
              "      <td>@Trt10616790 @SalaheddinMora1 @Mohdelmoctar @m...</td>\n",
              "      <td>52248</td>\n",
              "      <td>T</td>\n",
              "      <td>empty</td>\n",
              "    </tr>\n",
              "    <tr>\n",
              "      <th>27294</th>\n",
              "      <td>9341</td>\n",
              "      <td>1.294151e+18</td>\n",
              "      <td>@trt123430 @T1beCVnnEzLlKzO @DrAlnefisi لما شر...</td>\n",
              "      <td>52249</td>\n",
              "      <td>T</td>\n",
              "      <td>empty</td>\n",
              "    </tr>\n",
              "    <tr>\n",
              "      <th>27295</th>\n",
              "      <td>9342</td>\n",
              "      <td>1.314466e+18</td>\n",
              "      <td>@TRTArabi @mshinqiti آل سلول ...\\nيفضحون أنفسه...</td>\n",
              "      <td>52250</td>\n",
              "      <td>T</td>\n",
              "      <td>empty</td>\n",
              "    </tr>\n",
              "  </tbody>\n",
              "</table>\n",
              "<p>27296 rows × 6 columns</p>\n",
              "</div>\n",
              "      <button class=\"colab-df-convert\" onclick=\"convertToInteractive('df-55e063b2-76fb-45de-bd1d-afc5cb7daeb9')\"\n",
              "              title=\"Convert this dataframe to an interactive table.\"\n",
              "              style=\"display:none;\">\n",
              "        \n",
              "  <svg xmlns=\"http://www.w3.org/2000/svg\" height=\"24px\"viewBox=\"0 0 24 24\"\n",
              "       width=\"24px\">\n",
              "    <path d=\"M0 0h24v24H0V0z\" fill=\"none\"/>\n",
              "    <path d=\"M18.56 5.44l.94 2.06.94-2.06 2.06-.94-2.06-.94-.94-2.06-.94 2.06-2.06.94zm-11 1L8.5 8.5l.94-2.06 2.06-.94-2.06-.94L8.5 2.5l-.94 2.06-2.06.94zm10 10l.94 2.06.94-2.06 2.06-.94-2.06-.94-.94-2.06-.94 2.06-2.06.94z\"/><path d=\"M17.41 7.96l-1.37-1.37c-.4-.4-.92-.59-1.43-.59-.52 0-1.04.2-1.43.59L10.3 9.45l-7.72 7.72c-.78.78-.78 2.05 0 2.83L4 21.41c.39.39.9.59 1.41.59.51 0 1.02-.2 1.41-.59l7.78-7.78 2.81-2.81c.8-.78.8-2.07 0-2.86zM5.41 20L4 18.59l7.72-7.72 1.47 1.35L5.41 20z\"/>\n",
              "  </svg>\n",
              "      </button>\n",
              "      \n",
              "  <style>\n",
              "    .colab-df-container {\n",
              "      display:flex;\n",
              "      flex-wrap:wrap;\n",
              "      gap: 12px;\n",
              "    }\n",
              "\n",
              "    .colab-df-convert {\n",
              "      background-color: #E8F0FE;\n",
              "      border: none;\n",
              "      border-radius: 50%;\n",
              "      cursor: pointer;\n",
              "      display: none;\n",
              "      fill: #1967D2;\n",
              "      height: 32px;\n",
              "      padding: 0 0 0 0;\n",
              "      width: 32px;\n",
              "    }\n",
              "\n",
              "    .colab-df-convert:hover {\n",
              "      background-color: #E2EBFA;\n",
              "      box-shadow: 0px 1px 2px rgba(60, 64, 67, 0.3), 0px 1px 3px 1px rgba(60, 64, 67, 0.15);\n",
              "      fill: #174EA6;\n",
              "    }\n",
              "\n",
              "    [theme=dark] .colab-df-convert {\n",
              "      background-color: #3B4455;\n",
              "      fill: #D2E3FC;\n",
              "    }\n",
              "\n",
              "    [theme=dark] .colab-df-convert:hover {\n",
              "      background-color: #434B5C;\n",
              "      box-shadow: 0px 1px 3px 1px rgba(0, 0, 0, 0.15);\n",
              "      filter: drop-shadow(0px 1px 2px rgba(0, 0, 0, 0.3));\n",
              "      fill: #FFFFFF;\n",
              "    }\n",
              "  </style>\n",
              "\n",
              "      <script>\n",
              "        const buttonEl =\n",
              "          document.querySelector('#df-55e063b2-76fb-45de-bd1d-afc5cb7daeb9 button.colab-df-convert');\n",
              "        buttonEl.style.display =\n",
              "          google.colab.kernel.accessAllowed ? 'block' : 'none';\n",
              "\n",
              "        async function convertToInteractive(key) {\n",
              "          const element = document.querySelector('#df-55e063b2-76fb-45de-bd1d-afc5cb7daeb9');\n",
              "          const dataTable =\n",
              "            await google.colab.kernel.invokeFunction('convertToInteractive',\n",
              "                                                     [key], {});\n",
              "          if (!dataTable) return;\n",
              "\n",
              "          const docLinkHtml = 'Like what you see? Visit the ' +\n",
              "            '<a target=\"_blank\" href=https://colab.research.google.com/notebooks/data_table.ipynb>data table notebook</a>'\n",
              "            + ' to learn more about interactive tables.';\n",
              "          element.innerHTML = '';\n",
              "          dataTable['output_type'] = 'display_data';\n",
              "          await google.colab.output.renderOutput(dataTable, element);\n",
              "          const docLink = document.createElement('div');\n",
              "          docLink.innerHTML = docLinkHtml;\n",
              "          element.appendChild(docLink);\n",
              "        }\n",
              "      </script>\n",
              "    </div>\n",
              "  </div>\n",
              "  "
            ]
          },
          "metadata": {},
          "execution_count": 3
        }
      ]
    },
    {
      "cell_type": "code",
      "source": [
        "df.isna().sum()"
      ],
      "metadata": {
        "colab": {
          "base_uri": "https://localhost:8080/"
        },
        "id": "rqMwEVaduyQX",
        "outputId": "be253412-f6ae-4ad0-9d4d-de52e40d2c16"
      },
      "execution_count": 4,
      "outputs": [
        {
          "output_type": "execute_result",
          "data": {
            "text/plain": [
              "Unnamed: 0_x       0\n",
              "ids                0\n",
              "text            4082\n",
              "Unnamed: 0_y       0\n",
              "Label              0\n",
              "tweet              0\n",
              "dtype: int64"
            ]
          },
          "metadata": {},
          "execution_count": 4
        }
      ]
    },
    {
      "cell_type": "code",
      "source": [
        "df=df.dropna()"
      ],
      "metadata": {
        "id": "D2c8656Yu57g"
      },
      "execution_count": 9,
      "outputs": []
    },
    {
      "cell_type": "code",
      "source": [
        "df.isna().sum()"
      ],
      "metadata": {
        "colab": {
          "base_uri": "https://localhost:8080/"
        },
        "id": "Ujtpb9QpvFCY",
        "outputId": "dc146ad0-bc3f-42c3-ec66-677b6cb52de0"
      },
      "execution_count": 10,
      "outputs": [
        {
          "output_type": "execute_result",
          "data": {
            "text/plain": [
              "Unnamed: 0_x    0\n",
              "ids             0\n",
              "text            0\n",
              "Unnamed: 0_y    0\n",
              "Label           0\n",
              "tweet           0\n",
              "dtype: int64"
            ]
          },
          "metadata": {},
          "execution_count": 10
        }
      ]
    },
    {
      "cell_type": "code",
      "source": [
        "df.columns"
      ],
      "metadata": {
        "colab": {
          "base_uri": "https://localhost:8080/"
        },
        "id": "qIj1VhDGvIkQ",
        "outputId": "0f6553d9-7259-40d5-e4da-aed6d715ab31"
      },
      "execution_count": 12,
      "outputs": [
        {
          "output_type": "execute_result",
          "data": {
            "text/plain": [
              "Index(['Unnamed: 0_x', 'ids', 'text', 'Unnamed: 0_y', 'Label', 'tweet'], dtype='object')"
            ]
          },
          "metadata": {},
          "execution_count": 12
        }
      ]
    },
    {
      "cell_type": "code",
      "source": [
        "df.tweet"
      ],
      "metadata": {
        "colab": {
          "base_uri": "https://localhost:8080/"
        },
        "id": "mKD1NzYlvZsH",
        "outputId": "09ece9bb-fd0a-4b96-cbf8-4594803b03d0"
      },
      "execution_count": 13,
      "outputs": [
        {
          "output_type": "execute_result",
          "data": {
            "text/plain": [
              "0        empty\n",
              "1        empty\n",
              "2        empty\n",
              "3        empty\n",
              "8        empty\n",
              "         ...  \n",
              "27291    empty\n",
              "27292    empty\n",
              "27293    empty\n",
              "27294    empty\n",
              "27295    empty\n",
              "Name: tweet, Length: 23214, dtype: object"
            ]
          },
          "metadata": {},
          "execution_count": 13
        }
      ]
    },
    {
      "cell_type": "code",
      "source": [
        "from matplotlib import pyplot as plt"
      ],
      "metadata": {
        "id": "-zM4wFPnvmE0"
      },
      "execution_count": 14,
      "outputs": []
    },
    {
      "cell_type": "code",
      "source": [
        "fig = plt.figure(figsize =(5, 4))\n",
        "plt.bar(df['tweet'].value_counts().index, df['tweet'].value_counts(),color ='#DCA99A');\n",
        "plt.title(\"Distribution of tweets\");"
      ],
      "metadata": {
        "colab": {
          "base_uri": "https://localhost:8080/",
          "height": 391
        },
        "id": "F-_2yudYvrOi",
        "outputId": "d331467c-cfa0-473d-8e31-f56f7f25e3a2"
      },
      "execution_count": 15,
      "outputs": [
        {
          "output_type": "display_data",
          "data": {
            "text/plain": [
              "<Figure size 500x400 with 1 Axes>"
            ],
            "image/png": "[encoded data removed]"
          },
          "metadata": {}
        }
      ]
    },
    {
      "cell_type": "code",
      "source": [
        "df=df.drop('Unnamed: 0_x', axis=1)"
      ],
      "metadata": {
        "id": "8dApE6LZvxba"
      },
      "execution_count": 17,
      "outputs": []
    },
    {
      "cell_type": "code",
      "source": [
        "df=df.drop('Unnamed: 0_y', axis=1)"
      ],
      "metadata": {
        "id": "OEa1i8qQv3jh"
      },
      "execution_count": 18,
      "outputs": []
    },
    {
      "cell_type": "code",
      "source": [
        "df.columns"
      ],
      "metadata": {
        "colab": {
          "base_uri": "https://localhost:8080/"
        },
        "id": "smGh-ttTwCfv",
        "outputId": "9e6e437d-272a-4989-91da-f30ffb6e6ec0"
      },
      "execution_count": 19,
      "outputs": [
        {
          "output_type": "execute_result",
          "data": {
            "text/plain": [
              "Index(['ids', 'text', 'Label'], dtype='object')"
            ]
          },
          "metadata": {},
          "execution_count": 19
        }
      ]
    },
    {
      "cell_type": "code",
      "source": [
        "df"
      ],
      "metadata": {
        "colab": {
          "base_uri": "https://localhost:8080/",
          "height": 423
        },
        "id": "bENoHRH9wIDC",
        "outputId": "3f6db6d1-53b3-478e-8e18-96cea5f3d8b9"
      },
      "execution_count": 20,
      "outputs": [
        {
          "output_type": "execute_result",
          "data": {
            "text/plain": [
              "                ids                                               text Label\n",
              "0      1.301327e+18  @TRTArabi ال سلول الجبان الذليل المنافق كلب من...     T\n",
              "1      1.301327e+18  @TRTArabi ال سلول الجبان الذليل المنافق كلب من...     T\n",
              "2      1.307995e+18  @TRTArabi الا يا ال زايد خبرونا \\nأما فيكم من ...     T\n",
              "3      1.307995e+18  @TRTArabi الا يا ال زايد خبرونا \\nأما فيكم من ...     T\n",
              "8      1.286802e+18  @TRTArabi والله ترتيلك للقران يزلزل ال سلول وا...     T\n",
              "...             ...                                                ...   ...\n",
              "27291  1.285298e+18  @TRLuxuryFurni84 يارررررب...نفرح بزوال حكم أل ...     T\n",
              "27292  1.282019e+18               @Trseso90 الحق على ال سلول هم خطفوهم     T\n",
              "27293  1.302504e+18  @Trt10616790 @SalaheddinMora1 @Mohdelmoctar @m...     T\n",
              "27294  1.294151e+18  @trt123430 @T1beCVnnEzLlKzO @DrAlnefisi لما شر...     T\n",
              "27295  1.314466e+18  @TRTArabi @mshinqiti آل سلول ...\\nيفضحون أنفسه...     T\n",
              "\n",
              "[23214 rows x 3 columns]"
            ],
            "text/html": [
              "\n",
              "  <div id=\"df-5b409cf2-61d8-432f-8a11-164d432b2227\">\n",
              "    <div class=\"colab-df-container\">\n",
              "      <div>\n",
              "<style scoped>\n",
              "    .dataframe tbody tr th:only-of-type {\n",
              "        vertical-align: middle;\n",
              "    }\n",
              "\n",
              "    .dataframe tbody tr th {\n",
              "        vertical-align: top;\n",
              "    }\n",
              "\n",
              "    .dataframe thead th {\n",
              "        text-align: right;\n",
              "    }\n",
              "</style>\n",
              "<table border=\"1\" class=\"dataframe\">\n",
              "  <thead>\n",
              "    <tr style=\"text-align: right;\">\n",
              "      <th></th>\n",
              "      <th>ids</th>\n",
              "      <th>text</th>\n",
              "      <th>Label</th>\n",
              "    </tr>\n",
              "  </thead>\n",
              "  <tbody>\n",
              "    <tr>\n",
              "      <th>0</th>\n",
              "      <td>1.301327e+18</td>\n",
              "      <td>@TRTArabi ال سلول الجبان الذليل المنافق كلب من...</td>\n",
              "      <td>T</td>\n",
              "    </tr>\n",
              "    <tr>\n",
              "      <th>1</th>\n",
              "      <td>1.301327e+18</td>\n",
              "      <td>@TRTArabi ال سلول الجبان الذليل المنافق كلب من...</td>\n",
              "      <td>T</td>\n",
              "    </tr>\n",
              "    <tr>\n",
              "      <th>2</th>\n",
              "      <td>1.307995e+18</td>\n",
              "      <td>@TRTArabi الا يا ال زايد خبرونا \\nأما فيكم من ...</td>\n",
              "      <td>T</td>\n",
              "    </tr>\n",
              "    <tr>\n",
              "      <th>3</th>\n",
              "      <td>1.307995e+18</td>\n",
              "      <td>@TRTArabi الا يا ال زايد خبرونا \\nأما فيكم من ...</td>\n",
              "      <td>T</td>\n",
              "    </tr>\n",
              "    <tr>\n",
              "      <th>8</th>\n",
              "      <td>1.286802e+18</td>\n",
              "      <td>@TRTArabi والله ترتيلك للقران يزلزل ال سلول وا...</td>\n",
              "      <td>T</td>\n",
              "    </tr>\n",
              "    <tr>\n",
              "      <th>...</th>\n",
              "      <td>...</td>\n",
              "      <td>...</td>\n",
              "      <td>...</td>\n",
              "    </tr>\n",
              "    <tr>\n",
              "      <th>27291</th>\n",
              "      <td>1.285298e+18</td>\n",
              "      <td>@TRLuxuryFurni84 يارررررب...نفرح بزوال حكم أل ...</td>\n",
              "      <td>T</td>\n",
              "    </tr>\n",
              "    <tr>\n",
              "      <th>27292</th>\n",
              "      <td>1.282019e+18</td>\n",
              "      <td>@Trseso90 الحق على ال سلول هم خطفوهم</td>\n",
              "      <td>T</td>\n",
              "    </tr>\n",
              "    <tr>\n",
              "      <th>27293</th>\n",
              "      <td>1.302504e+18</td>\n",
              "      <td>@Trt10616790 @SalaheddinMora1 @Mohdelmoctar @m...</td>\n",
              "      <td>T</td>\n",
              "    </tr>\n",
              "    <tr>\n",
              "      <th>27294</th>\n",
              "      <td>1.294151e+18</td>\n",
              "      <td>@trt123430 @T1beCVnnEzLlKzO @DrAlnefisi لما شر...</td>\n",
              "      <td>T</td>\n",
              "    </tr>\n",
              "    <tr>\n",
              "      <th>27295</th>\n",
              "      <td>1.314466e+18</td>\n",
              "      <td>@TRTArabi @mshinqiti آل سلول ...\\nيفضحون أنفسه...</td>\n",
              "      <td>T</td>\n",
              "    </tr>\n",
              "  </tbody>\n",
              "</table>\n",
              "<p>23214 rows × 3 columns</p>\n",
              "</div>\n",
              "      <button class=\"colab-df-convert\" onclick=\"convertToInteractive('df-5b409cf2-61d8-432f-8a11-164d432b2227')\"\n",
              "              title=\"Convert this dataframe to an interactive table.\"\n",
              "              style=\"display:none;\">\n",
              "        \n",
              "  <svg xmlns=\"http://www.w3.org/2000/svg\" height=\"24px\"viewBox=\"0 0 24 24\"\n",
              "       width=\"24px\">\n",
              "    <path d=\"M0 0h24v24H0V0z\" fill=\"none\"/>\n",
              "    <path d=\"M18.56 5.44l.94 2.06.94-2.06 2.06-.94-2.06-.94-.94-2.06-.94 2.06-2.06.94zm-11 1L8.5 8.5l.94-2.06 2.06-.94-2.06-.94L8.5 2.5l-.94 2.06-2.06.94zm10 10l.94 2.06.94-2.06 2.06-.94-2.06-.94-.94-2.06-.94 2.06-2.06.94z\"/><path d=\"M17.41 7.96l-1.37-1.37c-.4-.4-.92-.59-1.43-.59-.52 0-1.04.2-1.43.59L10.3 9.45l-7.72 7.72c-.78.78-.78 2.05 0 2.83L4 21.41c.39.39.9.59 1.41.59.51 0 1.02-.2 1.41-.59l7.78-7.78 2.81-2.81c.8-.78.8-2.07 0-2.86zM5.41 20L4 18.59l7.72-7.72 1.47 1.35L5.41 20z\"/>\n",
              "  </svg>\n",
              "      </button>\n",
              "      \n",
              "  <style>\n",
              "    .colab-df-container {\n",
              "      display:flex;\n",
              "      flex-wrap:wrap;\n",
              "      gap: 12px;\n",
              "    }\n",
              "\n",
              "    .colab-df-convert {\n",
              "      background-color: #E8F0FE;\n",
              "      border: none;\n",
              "      border-radius: 50%;\n",
              "      cursor: pointer;\n",
              "      display: none;\n",
              "      fill: #1967D2;\n",
              "      height: 32px;\n",
              "      padding: 0 0 0 0;\n",
              "      width: 32px;\n",
              "    }\n",
              "\n",
              "    .colab-df-convert:hover {\n",
              "      background-color: #E2EBFA;\n",
              "      box-shadow: 0px 1px 2px rgba(60, 64, 67, 0.3), 0px 1px 3px 1px rgba(60, 64, 67, 0.15);\n",
              "      fill: #174EA6;\n",
              "    }\n",
              "\n",
              "    [theme=dark] .colab-df-convert {\n",
              "      background-color: #3B4455;\n",
              "      fill: #D2E3FC;\n",
              "    }\n",
              "\n",
              "    [theme=dark] .colab-df-convert:hover {\n",
              "      background-color: #434B5C;\n",
              "      box-shadow: 0px 1px 3px 1px rgba(0, 0, 0, 0.15);\n",
              "      filter: drop-shadow(0px 1px 2px rgba(0, 0, 0, 0.3));\n",
              "      fill: #FFFFFF;\n",
              "    }\n",
              "  </style>\n",
              "\n",
              "      <script>\n",
              "        const buttonEl =\n",
              "          document.querySelector('#df-5b409cf2-61d8-432f-8a11-164d432b2227 button.colab-df-convert');\n",
              "        buttonEl.style.display =\n",
              "          google.colab.kernel.accessAllowed ? 'block' : 'none';\n",
              "\n",
              "        async function convertToInteractive(key) {\n",
              "          const element = document.querySelector('#df-5b409cf2-61d8-432f-8a11-164d432b2227');\n",
              "          const dataTable =\n",
              "            await google.colab.kernel.invokeFunction('convertToInteractive',\n",
              "                                                     [key], {});\n",
              "          if (!dataTable) return;\n",
              "\n",
              "          const docLinkHtml = 'Like what you see? Visit the ' +\n",
              "            '<a target=\"_blank\" href=https://colab.research.google.com/notebooks/data_table.ipynb>data table notebook</a>'\n",
              "            + ' to learn more about interactive tables.';\n",
              "          element.innerHTML = '';\n",
              "          dataTable['output_type'] = 'display_data';\n",
              "          await google.colab.output.renderOutput(dataTable, element);\n",
              "          const docLink = document.createElement('div');\n",
              "          docLink.innerHTML = docLinkHtml;\n",
              "          element.appendChild(docLink);\n",
              "        }\n",
              "      </script>\n",
              "    </div>\n",
              "  </div>\n",
              "  "
            ]
          },
          "metadata": {},
          "execution_count": 20
        }
      ]
    },
    {
      "cell_type": "code",
      "source": [
        "import re"
      ],
      "metadata": {
        "id": "rC0nB4W5wJha"
      },
      "execution_count": 21,
      "outputs": []
    },
    {
      "cell_type": "code",
      "source": [
        "class preprocessingg:\n",
        "\n",
        "  def clean_arabic_text(text):\n",
        "\n",
        "    text = re.sub(r'[^\\u0600-\\u06FF\\s😀-🙏]+', '', text)\n",
        "    \n",
        "    text = re.sub(r'@[A-Za-z0-9_]+', '', text)\n",
        "    text = re.sub(r'https?://[^\\s]+', '', text)\n",
        "    \n",
        "    text = re.sub(r'[!.,;?]+', ' ', text)\n",
        "    \n",
        "    text = re.sub(r'\\b(ل(ا|م) )\\b', 'لا_', text)\n",
        "    text = re.sub(\"[إأآا]\", \"ا\", text)\n",
        "    text = re.sub(\"ى\", \"ي\", text)\n",
        "    text = re.sub(\"ؤ\", \"ء\", text)\n",
        "    text = re.sub(\"ئ\", \"ء\", text)\n",
        "    text = re.sub(\"ة\", \"ه\", text)\n",
        "    text = re.sub(\"گ\", \"ك\", text)\n",
        "  \n",
        "    \n",
        "    return text\n"
      ],
      "metadata": {
        "id": "uM3OY3sKwNcf"
      },
      "execution_count": 22,
      "outputs": []
    },
    {
      "cell_type": "code",
      "source": [
        "df['text']=df['text'].apply(preprocessingg.clean_arabic_text)"
      ],
      "metadata": {
        "id": "gPQIO863wPnH"
      },
      "execution_count": 23,
      "outputs": []
    },
    {
      "cell_type": "code",
      "source": [
        "df"
      ],
      "metadata": {
        "colab": {
          "base_uri": "https://localhost:8080/",
          "height": 423
        },
        "id": "NcszGr-wwTSS",
        "outputId": "281339ec-1cd8-4456-ba9a-17c9da4a9d23"
      },
      "execution_count": 24,
      "outputs": [
        {
          "output_type": "execute_result",
          "data": {
            "text/plain": [
              "                ids                                               text Label\n",
              "0      1.301327e+18   ال سلول الجبان الذليل المنافق كلب من كلاب الص...     T\n",
              "1      1.301327e+18   ال سلول الجبان الذليل المنافق كلب من كلاب الص...     T\n",
              "2      1.307995e+18   الا يا ال زايد خبرونا \\nاما فيكم من الاشراف س...     T\n",
              "3      1.307995e+18   الا يا ال زايد خبرونا \\nاما فيكم من الاشراف س...     T\n",
              "8      1.286802e+18   والله ترتيلك للقران يزلزل ال سلول وال شيطان ح...     T\n",
              "...             ...                                                ...   ...\n",
              "27291  1.285298e+18   ياررررربنفرح بزوال حكم ال سلول وبطانتهثمبنات ...     T\n",
              "27292  1.282019e+18                         الحق علي ال سلول هم خطفوهم     T\n",
              "27293  1.302504e+18      دعايه لنتنياهو وتحريف للبوصله وشيطنه غزه و...     T\n",
              "27294  1.294151e+18     لما شراذمه القوم يحكموا بلد امثال ال سلول ا...     T\n",
              "27295  1.314466e+18    ال سلول \\nيفضحون انفسهم بانفسهم \\nقبح الله س...     T\n",
              "\n",
              "[23214 rows x 3 columns]"
            ],
            "text/html": [
              "\n",
              "  <div id=\"df-58659bca-1bf2-4b5e-88e7-5ded1edc6d44\">\n",
              "    <div class=\"colab-df-container\">\n",
              "      <div>\n",
              "<style scoped>\n",
              "    .dataframe tbody tr th:only-of-type {\n",
              "        vertical-align: middle;\n",
              "    }\n",
              "\n",
              "    .dataframe tbody tr th {\n",
              "        vertical-align: top;\n",
              "    }\n",
              "\n",
              "    .dataframe thead th {\n",
              "        text-align: right;\n",
              "    }\n",
              "</style>\n",
              "<table border=\"1\" class=\"dataframe\">\n",
              "  <thead>\n",
              "    <tr style=\"text-align: right;\">\n",
              "      <th></th>\n",
              "      <th>ids</th>\n",
              "      <th>text</th>\n",
              "      <th>Label</th>\n",
              "    </tr>\n",
              "  </thead>\n",
              "  <tbody>\n",
              "    <tr>\n",
              "      <th>0</th>\n",
              "      <td>1.301327e+18</td>\n",
              "      <td>ال سلول الجبان الذليل المنافق كلب من كلاب الص...</td>\n",
              "      <td>T</td>\n",
              "    </tr>\n",
              "    <tr>\n",
              "      <th>1</th>\n",
              "      <td>1.301327e+18</td>\n",
              "      <td>ال سلول الجبان الذليل المنافق كلب من كلاب الص...</td>\n",
              "      <td>T</td>\n",
              "    </tr>\n",
              "    <tr>\n",
              "      <th>2</th>\n",
              "      <td>1.307995e+18</td>\n",
              "      <td>الا يا ال زايد خبرونا \\nاما فيكم من الاشراف س...</td>\n",
              "      <td>T</td>\n",
              "    </tr>\n",
              "    <tr>\n",
              "      <th>3</th>\n",
              "      <td>1.307995e+18</td>\n",
              "      <td>الا يا ال زايد خبرونا \\nاما فيكم من الاشراف س...</td>\n",
              "      <td>T</td>\n",
              "    </tr>\n",
              "    <tr>\n",
              "      <th>8</th>\n",
              "      <td>1.286802e+18</td>\n",
              "      <td>والله ترتيلك للقران يزلزل ال سلول وال شيطان ح...</td>\n",
              "      <td>T</td>\n",
              "    </tr>\n",
              "    <tr>\n",
              "      <th>...</th>\n",
              "      <td>...</td>\n",
              "      <td>...</td>\n",
              "      <td>...</td>\n",
              "    </tr>\n",
              "    <tr>\n",
              "      <th>27291</th>\n",
              "      <td>1.285298e+18</td>\n",
              "      <td>ياررررربنفرح بزوال حكم ال سلول وبطانتهثمبنات ...</td>\n",
              "      <td>T</td>\n",
              "    </tr>\n",
              "    <tr>\n",
              "      <th>27292</th>\n",
              "      <td>1.282019e+18</td>\n",
              "      <td>الحق علي ال سلول هم خطفوهم</td>\n",
              "      <td>T</td>\n",
              "    </tr>\n",
              "    <tr>\n",
              "      <th>27293</th>\n",
              "      <td>1.302504e+18</td>\n",
              "      <td>دعايه لنتنياهو وتحريف للبوصله وشيطنه غزه و...</td>\n",
              "      <td>T</td>\n",
              "    </tr>\n",
              "    <tr>\n",
              "      <th>27294</th>\n",
              "      <td>1.294151e+18</td>\n",
              "      <td>لما شراذمه القوم يحكموا بلد امثال ال سلول ا...</td>\n",
              "      <td>T</td>\n",
              "    </tr>\n",
              "    <tr>\n",
              "      <th>27295</th>\n",
              "      <td>1.314466e+18</td>\n",
              "      <td>ال سلول \\nيفضحون انفسهم بانفسهم \\nقبح الله س...</td>\n",
              "      <td>T</td>\n",
              "    </tr>\n",
              "  </tbody>\n",
              "</table>\n",
              "<p>23214 rows × 3 columns</p>\n",
              "</div>\n",
              "      <button class=\"colab-df-convert\" onclick=\"convertToInteractive('df-58659bca-1bf2-4b5e-88e7-5ded1edc6d44')\"\n",
              "              title=\"Convert this dataframe to an interactive table.\"\n",
              "              style=\"display:none;\">\n",
              "        \n",
              "  <svg xmlns=\"http://www.w3.org/2000/svg\" height=\"24px\"viewBox=\"0 0 24 24\"\n",
              "       width=\"24px\">\n",
              "    <path d=\"M0 0h24v24H0V0z\" fill=\"none\"/>\n",
              "    <path d=\"M18.56 5.44l.94 2.06.94-2.06 2.06-.94-2.06-.94-.94-2.06-.94 2.06-2.06.94zm-11 1L8.5 8.5l.94-2.06 2.06-.94-2.06-.94L8.5 2.5l-.94 2.06-2.06.94zm10 10l.94 2.06.94-2.06 2.06-.94-2.06-.94-.94-2.06-.94 2.06-2.06.94z\"/><path d=\"M17.41 7.96l-1.37-1.37c-.4-.4-.92-.59-1.43-.59-.52 0-1.04.2-1.43.59L10.3 9.45l-7.72 7.72c-.78.78-.78 2.05 0 2.83L4 21.41c.39.39.9.59 1.41.59.51 0 1.02-.2 1.41-.59l7.78-7.78 2.81-2.81c.8-.78.8-2.07 0-2.86zM5.41 20L4 18.59l7.72-7.72 1.47 1.35L5.41 20z\"/>\n",
              "  </svg>\n",
              "      </button>\n",
              "      \n",
              "  <style>\n",
              "    .colab-df-container {\n",
              "      display:flex;\n",
              "      flex-wrap:wrap;\n",
              "      gap: 12px;\n",
              "    }\n",
              "\n",
              "    .colab-df-convert {\n",
              "      background-color: #E8F0FE;\n",
              "      border: none;\n",
              "      border-radius: 50%;\n",
              "      cursor: pointer;\n",
              "      display: none;\n",
              "      fill: #1967D2;\n",
              "      height: 32px;\n",
              "      padding: 0 0 0 0;\n",
              "      width: 32px;\n",
              "    }\n",
              "\n",
              "    .colab-df-convert:hover {\n",
              "      background-color: #E2EBFA;\n",
              "      box-shadow: 0px 1px 2px rgba(60, 64, 67, 0.3), 0px 1px 3px 1px rgba(60, 64, 67, 0.15);\n",
              "      fill: #174EA6;\n",
              "    }\n",
              "\n",
              "    [theme=dark] .colab-df-convert {\n",
              "      background-color: #3B4455;\n",
              "      fill: #D2E3FC;\n",
              "    }\n",
              "\n",
              "    [theme=dark] .colab-df-convert:hover {\n",
              "      background-color: #434B5C;\n",
              "      box-shadow: 0px 1px 3px 1px rgba(0, 0, 0, 0.15);\n",
              "      filter: drop-shadow(0px 1px 2px rgba(0, 0, 0, 0.3));\n",
              "      fill: #FFFFFF;\n",
              "    }\n",
              "  </style>\n",
              "\n",
              "      <script>\n",
              "        const buttonEl =\n",
              "          document.querySelector('#df-58659bca-1bf2-4b5e-88e7-5ded1edc6d44 button.colab-df-convert');\n",
              "        buttonEl.style.display =\n",
              "          google.colab.kernel.accessAllowed ? 'block' : 'none';\n",
              "\n",
              "        async function convertToInteractive(key) {\n",
              "          const element = document.querySelector('#df-58659bca-1bf2-4b5e-88e7-5ded1edc6d44');\n",
              "          const dataTable =\n",
              "            await google.colab.kernel.invokeFunction('convertToInteractive',\n",
              "                                                     [key], {});\n",
              "          if (!dataTable) return;\n",
              "\n",
              "          const docLinkHtml = 'Like what you see? Visit the ' +\n",
              "            '<a target=\"_blank\" href=https://colab.research.google.com/notebooks/data_table.ipynb>data table notebook</a>'\n",
              "            + ' to learn more about interactive tables.';\n",
              "          element.innerHTML = '';\n",
              "          dataTable['output_type'] = 'display_data';\n",
              "          await google.colab.output.renderOutput(dataTable, element);\n",
              "          const docLink = document.createElement('div');\n",
              "          docLink.innerHTML = docLinkHtml;\n",
              "          element.appendChild(docLink);\n",
              "        }\n",
              "      </script>\n",
              "    </div>\n",
              "  </div>\n",
              "  "
            ]
          },
          "metadata": {},
          "execution_count": 24
        }
      ]
    },
    {
      "cell_type": "code",
      "source": [
        "fig = plt.figure(figsize =(5, 4))\n",
        "plt.bar(df['Label'].value_counts().index, df['Label'].value_counts(),color ='#DCA99A');\n",
        "plt.title(\"Distribution of twwets Label\");"
      ],
      "metadata": {
        "colab": {
          "base_uri": "https://localhost:8080/",
          "height": 391
        },
        "id": "evkP0FXQwX1h",
        "outputId": "5067a347-445f-4457-97dc-1531d282ddc9"
      },
      "execution_count": 25,
      "outputs": [
        {
          "output_type": "display_data",
          "data": {
            "text/plain": [
              "<Figure size 500x400 with 1 Axes>"
            ],
            "image/png": "[encoded data removed]"
          },
          "metadata": {}
        }
      ]
    },
    {
      "cell_type": "code",
      "source": [
        "df['Label'] = df['Label'].map({'T': 1, 'F': 0})"
      ],
      "metadata": {
        "id": "tOa3qagNwblH"
      },
      "execution_count": 26,
      "outputs": []
    },
    {
      "cell_type": "code",
      "source": [
        "df"
      ],
      "metadata": {
        "id": "Ef87BRyewfv_",
        "outputId": "cb14b643-2c14-4975-fedc-e40d6e16b467",
        "colab": {
          "base_uri": "https://localhost:8080/",
          "height": 423
        }
      },
      "execution_count": 27,
      "outputs": [
        {
          "output_type": "execute_result",
          "data": {
            "text/plain": [
              "                ids                                               text  Label\n",
              "0      1.301327e+18   ال سلول الجبان الذليل المنافق كلب من كلاب الص...      1\n",
              "1      1.301327e+18   ال سلول الجبان الذليل المنافق كلب من كلاب الص...      1\n",
              "2      1.307995e+18   الا يا ال زايد خبرونا \\nاما فيكم من الاشراف س...      1\n",
              "3      1.307995e+18   الا يا ال زايد خبرونا \\nاما فيكم من الاشراف س...      1\n",
              "8      1.286802e+18   والله ترتيلك للقران يزلزل ال سلول وال شيطان ح...      1\n",
              "...             ...                                                ...    ...\n",
              "27291  1.285298e+18   ياررررربنفرح بزوال حكم ال سلول وبطانتهثمبنات ...      1\n",
              "27292  1.282019e+18                         الحق علي ال سلول هم خطفوهم      1\n",
              "27293  1.302504e+18      دعايه لنتنياهو وتحريف للبوصله وشيطنه غزه و...      1\n",
              "27294  1.294151e+18     لما شراذمه القوم يحكموا بلد امثال ال سلول ا...      1\n",
              "27295  1.314466e+18    ال سلول \\nيفضحون انفسهم بانفسهم \\nقبح الله س...      1\n",
              "\n",
              "[23214 rows x 3 columns]"
            ],
            "text/html": [
              "\n",
              "  <div id=\"df-f3c90e35-dd17-465e-bfcf-2fe620d60c08\">\n",
              "    <div class=\"colab-df-container\">\n",
              "      <div>\n",
              "<style scoped>\n",
              "    .dataframe tbody tr th:only-of-type {\n",
              "        vertical-align: middle;\n",
              "    }\n",
              "\n",
              "    .dataframe tbody tr th {\n",
              "        vertical-align: top;\n",
              "    }\n",
              "\n",
              "    .dataframe thead th {\n",
              "        text-align: right;\n",
              "    }\n",
              "</style>\n",
              "<table border=\"1\" class=\"dataframe\">\n",
              "  <thead>\n",
              "    <tr style=\"text-align: right;\">\n",
              "      <th></th>\n",
              "      <th>ids</th>\n",
              "      <th>text</th>\n",
              "      <th>Label</th>\n",
              "    </tr>\n",
              "  </thead>\n",
              "  <tbody>\n",
              "    <tr>\n",
              "      <th>0</th>\n",
              "      <td>1.301327e+18</td>\n",
              "      <td>ال سلول الجبان الذليل المنافق كلب من كلاب الص...</td>\n",
              "      <td>1</td>\n",
              "    </tr>\n",
              "    <tr>\n",
              "      <th>1</th>\n",
              "      <td>1.301327e+18</td>\n",
              "      <td>ال سلول الجبان الذليل المنافق كلب من كلاب الص...</td>\n",
              "      <td>1</td>\n",
              "    </tr>\n",
              "    <tr>\n",
              "      <th>2</th>\n",
              "      <td>1.307995e+18</td>\n",
              "      <td>الا يا ال زايد خبرونا \\nاما فيكم من الاشراف س...</td>\n",
              "      <td>1</td>\n",
              "    </tr>\n",
              "    <tr>\n",
              "      <th>3</th>\n",
              "      <td>1.307995e+18</td>\n",
              "      <td>الا يا ال زايد خبرونا \\nاما فيكم من الاشراف س...</td>\n",
              "      <td>1</td>\n",
              "    </tr>\n",
              "    <tr>\n",
              "      <th>8</th>\n",
              "      <td>1.286802e+18</td>\n",
              "      <td>والله ترتيلك للقران يزلزل ال سلول وال شيطان ح...</td>\n",
              "      <td>1</td>\n",
              "    </tr>\n",
              "    <tr>\n",
              "      <th>...</th>\n",
              "      <td>...</td>\n",
              "      <td>...</td>\n",
              "      <td>...</td>\n",
              "    </tr>\n",
              "    <tr>\n",
              "      <th>27291</th>\n",
              "      <td>1.285298e+18</td>\n",
              "      <td>ياررررربنفرح بزوال حكم ال سلول وبطانتهثمبنات ...</td>\n",
              "      <td>1</td>\n",
              "    </tr>\n",
              "    <tr>\n",
              "      <th>27292</th>\n",
              "      <td>1.282019e+18</td>\n",
              "      <td>الحق علي ال سلول هم خطفوهم</td>\n",
              "      <td>1</td>\n",
              "    </tr>\n",
              "    <tr>\n",
              "      <th>27293</th>\n",
              "      <td>1.302504e+18</td>\n",
              "      <td>دعايه لنتنياهو وتحريف للبوصله وشيطنه غزه و...</td>\n",
              "      <td>1</td>\n",
              "    </tr>\n",
              "    <tr>\n",
              "      <th>27294</th>\n",
              "      <td>1.294151e+18</td>\n",
              "      <td>لما شراذمه القوم يحكموا بلد امثال ال سلول ا...</td>\n",
              "      <td>1</td>\n",
              "    </tr>\n",
              "    <tr>\n",
              "      <th>27295</th>\n",
              "      <td>1.314466e+18</td>\n",
              "      <td>ال سلول \\nيفضحون انفسهم بانفسهم \\nقبح الله س...</td>\n",
              "      <td>1</td>\n",
              "    </tr>\n",
              "  </tbody>\n",
              "</table>\n",
              "<p>23214 rows × 3 columns</p>\n",
              "</div>\n",
              "      <button class=\"colab-df-convert\" onclick=\"convertToInteractive('df-f3c90e35-dd17-465e-bfcf-2fe620d60c08')\"\n",
              "              title=\"Convert this dataframe to an interactive table.\"\n",
              "              style=\"display:none;\">\n",
              "        \n",
              "  <svg xmlns=\"http://www.w3.org/2000/svg\" height=\"24px\"viewBox=\"0 0 24 24\"\n",
              "       width=\"24px\">\n",
              "    <path d=\"M0 0h24v24H0V0z\" fill=\"none\"/>\n",
              "    <path d=\"M18.56 5.44l.94 2.06.94-2.06 2.06-.94-2.06-.94-.94-2.06-.94 2.06-2.06.94zm-11 1L8.5 8.5l.94-2.06 2.06-.94-2.06-.94L8.5 2.5l-.94 2.06-2.06.94zm10 10l.94 2.06.94-2.06 2.06-.94-2.06-.94-.94-2.06-.94 2.06-2.06.94z\"/><path d=\"M17.41 7.96l-1.37-1.37c-.4-.4-.92-.59-1.43-.59-.52 0-1.04.2-1.43.59L10.3 9.45l-7.72 7.72c-.78.78-.78 2.05 0 2.83L4 21.41c.39.39.9.59 1.41.59.51 0 1.02-.2 1.41-.59l7.78-7.78 2.81-2.81c.8-.78.8-2.07 0-2.86zM5.41 20L4 18.59l7.72-7.72 1.47 1.35L5.41 20z\"/>\n",
              "  </svg>\n",
              "      </button>\n",
              "      \n",
              "  <style>\n",
              "    .colab-df-container {\n",
              "      display:flex;\n",
              "      flex-wrap:wrap;\n",
              "      gap: 12px;\n",
              "    }\n",
              "\n",
              "    .colab-df-convert {\n",
              "      background-color: #E8F0FE;\n",
              "      border: none;\n",
              "      border-radius: 50%;\n",
              "      cursor: pointer;\n",
              "      display: none;\n",
              "      fill: #1967D2;\n",
              "      height: 32px;\n",
              "      padding: 0 0 0 0;\n",
              "      width: 32px;\n",
              "    }\n",
              "\n",
              "    .colab-df-convert:hover {\n",
              "      background-color: #E2EBFA;\n",
              "      box-shadow: 0px 1px 2px rgba(60, 64, 67, 0.3), 0px 1px 3px 1px rgba(60, 64, 67, 0.15);\n",
              "      fill: #174EA6;\n",
              "    }\n",
              "\n",
              "    [theme=dark] .colab-df-convert {\n",
              "      background-color: #3B4455;\n",
              "      fill: #D2E3FC;\n",
              "    }\n",
              "\n",
              "    [theme=dark] .colab-df-convert:hover {\n",
              "      background-color: #434B5C;\n",
              "      box-shadow: 0px 1px 3px 1px rgba(0, 0, 0, 0.15);\n",
              "      filter: drop-shadow(0px 1px 2px rgba(0, 0, 0, 0.3));\n",
              "      fill: #FFFFFF;\n",
              "    }\n",
              "  </style>\n",
              "\n",
              "      <script>\n",
              "        const buttonEl =\n",
              "          document.querySelector('#df-f3c90e35-dd17-465e-bfcf-2fe620d60c08 button.colab-df-convert');\n",
              "        buttonEl.style.display =\n",
              "          google.colab.kernel.accessAllowed ? 'block' : 'none';\n",
              "\n",
              "        async function convertToInteractive(key) {\n",
              "          const element = document.querySelector('#df-f3c90e35-dd17-465e-bfcf-2fe620d60c08');\n",
              "          const dataTable =\n",
              "            await google.colab.kernel.invokeFunction('convertToInteractive',\n",
              "                                                     [key], {});\n",
              "          if (!dataTable) return;\n",
              "\n",
              "          const docLinkHtml = 'Like what you see? Visit the ' +\n",
              "            '<a target=\"_blank\" href=https://colab.research.google.com/notebooks/data_table.ipynb>data table notebook</a>'\n",
              "            + ' to learn more about interactive tables.';\n",
              "          element.innerHTML = '';\n",
              "          dataTable['output_type'] = 'display_data';\n",
              "          await google.colab.output.renderOutput(dataTable, element);\n",
              "          const docLink = document.createElement('div');\n",
              "          docLink.innerHTML = docLinkHtml;\n",
              "          element.appendChild(docLink);\n",
              "        }\n",
              "      </script>\n",
              "    </div>\n",
              "  </div>\n",
              "  "
            ]
          },
          "metadata": {},
          "execution_count": 27
        }
      ]
    },
    {
      "cell_type": "code",
      "source": [],
      "metadata": {
        "id": "Xx7NLUdswgNH"
      },
      "execution_count": null,
      "outputs": []
    }
  ]
}