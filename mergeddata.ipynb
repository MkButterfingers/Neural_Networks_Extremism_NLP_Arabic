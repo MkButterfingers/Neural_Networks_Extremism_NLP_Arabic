{
  "nbformat": 4,
  "nbformat_minor": 0,
  "metadata": {
    "colab": {
      "provenance": []
    },
    "kernelspec": {
      "name": "python3",
      "display_name": "Python 3"
    },
    "language_info": {
      "name": "python"
    }
  },
  "cells": [
    {
      "cell_type": "code",
      "execution_count": null,
      "metadata": {
        "id": "T9NfpUrtZQAk"
      },
      "outputs": [],
      "source": [
        "import pandas as pd\n",
        "import io"
      ]
    },
    {
      "cell_type": "code",
      "source": [
        "with open('/content/batch1.csv', encoding='utf-8', errors='replace') as f:\n",
        "    data = f.read()\n",
        "\n",
        "df1 = pd.read_csv(io.StringIO(data))"
      ],
      "metadata": {
        "id": "GcpsBnX1bqpw"
      },
      "execution_count": null,
      "outputs": []
    },
    {
      "cell_type": "code",
      "source": [
        "\n",
        "with open('/content/batch2.csv', encoding='utf-8', errors='replace') as f:\n",
        "    data = f.read()\n",
        "\n",
        "df2 = pd.read_csv(io.StringIO(data))"
      ],
      "metadata": {
        "id": "JmoDHoetbqeC"
      },
      "execution_count": null,
      "outputs": []
    },
    {
      "cell_type": "code",
      "source": [
        "with open('/content/batch3.csv', encoding='utf-8', errors='replace') as f:\n",
        "    data = f.read()\n",
        "\n",
        "df3 = pd.read_csv(io.StringIO(data))"
      ],
      "metadata": {
        "id": "BybHzfStbqV9"
      },
      "execution_count": null,
      "outputs": []
    },
    {
      "cell_type": "code",
      "source": [
        "with open('/content/batch4.csv', encoding='utf-8', errors='replace') as f:\n",
        "    data = f.read()\n",
        "\n",
        "df4 = pd.read_csv(io.StringIO(data))"
      ],
      "metadata": {
        "id": "_wax5wsBbqN5"
      },
      "execution_count": null,
      "outputs": []
    },
    {
      "cell_type": "code",
      "source": [
        "with open('/content/batch5.csv', encoding='utf-8', errors='replace') as f:\n",
        "    data = f.read()\n",
        "\n",
        "df5 = pd.read_csv(io.StringIO(data))"
      ],
      "metadata": {
        "id": "QA6HMtZVbqHK"
      },
      "execution_count": null,
      "outputs": []
    },
    {
      "cell_type": "code",
      "source": [
        "with open('/content/batch6.csv', encoding='utf-8', errors='replace') as f:\n",
        "    data = f.read()\n",
        "\n",
        "df6 = pd.read_csv(io.StringIO(data))"
      ],
      "metadata": {
        "id": "lO8AOzeubp-z"
      },
      "execution_count": null,
      "outputs": []
    },
    {
      "cell_type": "code",
      "source": [
        "with open('/content/batch7.csv', encoding='utf-8', errors='replace') as f:\n",
        "    data = f.read()\n",
        "\n",
        "df7 = pd.read_csv(io.StringIO(data))"
      ],
      "metadata": {
        "id": "SGY85zQybp1K"
      },
      "execution_count": null,
      "outputs": []
    },
    {
      "cell_type": "code",
      "source": [
        "len(df1)"
      ],
      "metadata": {
        "colab": {
          "base_uri": "https://localhost:8080/"
        },
        "id": "6vyCGDCPcJAg",
        "outputId": "0c8ef87e-a9ed-4111-db4d-4b0afdc06470"
      },
      "execution_count": null,
      "outputs": [
        {
          "output_type": "execute_result",
          "data": {
            "text/plain": [
              "1903"
            ]
          },
          "metadata": {},
          "execution_count": 11
        }
      ]
    },
    {
      "cell_type": "code",
      "source": [
        "len(df2)"
      ],
      "metadata": {
        "colab": {
          "base_uri": "https://localhost:8080/"
        },
        "id": "xCCd_oTqcInO",
        "outputId": "39a1fcf1-0c64-4643-a1fa-ffb82023e399"
      },
      "execution_count": null,
      "outputs": [
        {
          "output_type": "execute_result",
          "data": {
            "text/plain": [
              "1875"
            ]
          },
          "metadata": {},
          "execution_count": 12
        }
      ]
    },
    {
      "cell_type": "code",
      "source": [
        "len(df3)"
      ],
      "metadata": {
        "colab": {
          "base_uri": "https://localhost:8080/"
        },
        "id": "pVS5H6fccIhB",
        "outputId": "2fb45c35-b4db-4fac-ed06-d1afbc65d783"
      },
      "execution_count": null,
      "outputs": [
        {
          "output_type": "execute_result",
          "data": {
            "text/plain": [
              "5634"
            ]
          },
          "metadata": {},
          "execution_count": 13
        }
      ]
    },
    {
      "cell_type": "code",
      "source": [
        "len(df4)"
      ],
      "metadata": {
        "colab": {
          "base_uri": "https://localhost:8080/"
        },
        "id": "IilvV_d9cIbe",
        "outputId": "0a08afd1-886d-4a0c-b4cd-abb1181e0ce1"
      },
      "execution_count": null,
      "outputs": [
        {
          "output_type": "execute_result",
          "data": {
            "text/plain": [
              "9414"
            ]
          },
          "metadata": {},
          "execution_count": 14
        }
      ]
    },
    {
      "cell_type": "code",
      "source": [
        "len(df5)"
      ],
      "metadata": {
        "colab": {
          "base_uri": "https://localhost:8080/"
        },
        "id": "LhyHOsykcIWz",
        "outputId": "eb8e38e2-218a-4105-8906-c3247bdbdbb6"
      },
      "execution_count": null,
      "outputs": [
        {
          "output_type": "execute_result",
          "data": {
            "text/plain": [
              "9301"
            ]
          },
          "metadata": {},
          "execution_count": 15
        }
      ]
    },
    {
      "cell_type": "code",
      "source": [
        "len(df6)"
      ],
      "metadata": {
        "colab": {
          "base_uri": "https://localhost:8080/"
        },
        "id": "uVygbfwQcISH",
        "outputId": "ddc17916-7cfd-4096-bb3d-da4912f30a11"
      },
      "execution_count": null,
      "outputs": [
        {
          "output_type": "execute_result",
          "data": {
            "text/plain": [
              "9344"
            ]
          },
          "metadata": {},
          "execution_count": 16
        }
      ]
    },
    {
      "cell_type": "code",
      "source": [
        "len(df7)"
      ],
      "metadata": {
        "colab": {
          "base_uri": "https://localhost:8080/"
        },
        "id": "_RMRzVipcIM5",
        "outputId": "0373f1de-2d2e-4307-b2b0-ab6e4967a042"
      },
      "execution_count": null,
      "outputs": [
        {
          "output_type": "execute_result",
          "data": {
            "text/plain": [
              "18359"
            ]
          },
          "metadata": {},
          "execution_count": 19
        }
      ]
    },
    {
      "cell_type": "code",
      "source": [
        "s=[df1,df2,df3,df4,df5,df6,df7]"
      ],
      "metadata": {
        "id": "OtzmGnrtR8_n"
      },
      "execution_count": null,
      "outputs": []
    },
    {
      "cell_type": "code",
      "source": [
        "df"
      ],
      "metadata": {
        "colab": {
          "base_uri": "https://localhost:8080/",
          "height": 423
        },
        "id": "4_xKJ4nYSXG9",
        "outputId": "35be7d22-c34e-4a11-f10e-32081185abaf"
      },
      "execution_count": null,
      "outputs": [
        {
          "output_type": "execute_result",
          "data": {
            "text/plain": [
              "      Unnamed: 0           ids  \\\n",
              "0              0  1.301327e+18   \n",
              "1              1  1.307995e+18   \n",
              "2              2  1.332262e+18   \n",
              "3              3  1.314475e+18   \n",
              "4              4  1.341468e+18   \n",
              "...          ...           ...   \n",
              "18354      18353  9.494298e+17   \n",
              "18355      18354  1.015940e+18   \n",
              "18356      18355  1.051670e+18   \n",
              "18357      18356  1.243950e+18   \n",
              "18358      18357  1.308716e+18   \n",
              "\n",
              "                                                    text  \n",
              "0      @TRTArabi ال سلول الجبان الذليل المنافق كلب من...  \n",
              "1      @TRTArabi الا يا ال زايد خبرونا \\nأما فيكم من ...  \n",
              "2      @TRTArabi السلطة وعلى راسها ال سلول هم اكبر ال...  \n",
              "3                                                    NaN  \n",
              "4      @TRTArabi الله ينصركم على  آل سلول الفتالين عي...  \n",
              "...                                                  ...  \n",
              "18354  @saudq1978 #كلنا_سلمان_كلنا_محمد\\nاوامر خير لش...  \n",
              "18355  @r2wwww @deep_71023 اوجعتي قلبي حسبي الله وكفى...  \n",
              "18356  #كلنا_ثقه_في_محمد_بن_سلمان\\n\\nاوطنا دون حدك اس...  \n",
              "18357  @7Ggg1o3GhlR9eCK @The_Saudi_girl اوف لا والله ...  \n",
              "18358  #٩٠عام_فوق_هام_السحب  اوفر حسابات نتفلكس وعندن...  \n",
              "\n",
              "[18359 rows x 3 columns]"
            ],
            "text/html": [
              "\n",
              "  <div id=\"df-01608a96-a71f-4b63-a9b5-3174f3163aeb\">\n",
              "    <div class=\"colab-df-container\">\n",
              "      <div>\n",
              "<style scoped>\n",
              "    .dataframe tbody tr th:only-of-type {\n",
              "        vertical-align: middle;\n",
              "    }\n",
              "\n",
              "    .dataframe tbody tr th {\n",
              "        vertical-align: top;\n",
              "    }\n",
              "\n",
              "    .dataframe thead th {\n",
              "        text-align: right;\n",
              "    }\n",
              "</style>\n",
              "<table border=\"1\" class=\"dataframe\">\n",
              "  <thead>\n",
              "    <tr style=\"text-align: right;\">\n",
              "      <th></th>\n",
              "      <th>Unnamed: 0</th>\n",
              "      <th>ids</th>\n",
              "      <th>text</th>\n",
              "    </tr>\n",
              "  </thead>\n",
              "  <tbody>\n",
              "    <tr>\n",
              "      <th>0</th>\n",
              "      <td>0</td>\n",
              "      <td>1.301327e+18</td>\n",
              "      <td>@TRTArabi ال سلول الجبان الذليل المنافق كلب من...</td>\n",
              "    </tr>\n",
              "    <tr>\n",
              "      <th>1</th>\n",
              "      <td>1</td>\n",
              "      <td>1.307995e+18</td>\n",
              "      <td>@TRTArabi الا يا ال زايد خبرونا \\nأما فيكم من ...</td>\n",
              "    </tr>\n",
              "    <tr>\n",
              "      <th>2</th>\n",
              "      <td>2</td>\n",
              "      <td>1.332262e+18</td>\n",
              "      <td>@TRTArabi السلطة وعلى راسها ال سلول هم اكبر ال...</td>\n",
              "    </tr>\n",
              "    <tr>\n",
              "      <th>3</th>\n",
              "      <td>3</td>\n",
              "      <td>1.314475e+18</td>\n",
              "      <td>NaN</td>\n",
              "    </tr>\n",
              "    <tr>\n",
              "      <th>4</th>\n",
              "      <td>4</td>\n",
              "      <td>1.341468e+18</td>\n",
              "      <td>@TRTArabi الله ينصركم على  آل سلول الفتالين عي...</td>\n",
              "    </tr>\n",
              "    <tr>\n",
              "      <th>...</th>\n",
              "      <td>...</td>\n",
              "      <td>...</td>\n",
              "      <td>...</td>\n",
              "    </tr>\n",
              "    <tr>\n",
              "      <th>18354</th>\n",
              "      <td>18353</td>\n",
              "      <td>9.494298e+17</td>\n",
              "      <td>@saudq1978 #كلنا_سلمان_كلنا_محمد\\nاوامر خير لش...</td>\n",
              "    </tr>\n",
              "    <tr>\n",
              "      <th>18355</th>\n",
              "      <td>18354</td>\n",
              "      <td>1.015940e+18</td>\n",
              "      <td>@r2wwww @deep_71023 اوجعتي قلبي حسبي الله وكفى...</td>\n",
              "    </tr>\n",
              "    <tr>\n",
              "      <th>18356</th>\n",
              "      <td>18355</td>\n",
              "      <td>1.051670e+18</td>\n",
              "      <td>#كلنا_ثقه_في_محمد_بن_سلمان\\n\\nاوطنا دون حدك اس...</td>\n",
              "    </tr>\n",
              "    <tr>\n",
              "      <th>18357</th>\n",
              "      <td>18356</td>\n",
              "      <td>1.243950e+18</td>\n",
              "      <td>@7Ggg1o3GhlR9eCK @The_Saudi_girl اوف لا والله ...</td>\n",
              "    </tr>\n",
              "    <tr>\n",
              "      <th>18358</th>\n",
              "      <td>18357</td>\n",
              "      <td>1.308716e+18</td>\n",
              "      <td>#٩٠عام_فوق_هام_السحب  اوفر حسابات نتفلكس وعندن...</td>\n",
              "    </tr>\n",
              "  </tbody>\n",
              "</table>\n",
              "<p>18359 rows × 3 columns</p>\n",
              "</div>\n",
              "      <button class=\"colab-df-convert\" onclick=\"convertToInteractive('df-01608a96-a71f-4b63-a9b5-3174f3163aeb')\"\n",
              "              title=\"Convert this dataframe to an interactive table.\"\n",
              "              style=\"display:none;\">\n",
              "        \n",
              "  <svg xmlns=\"http://www.w3.org/2000/svg\" height=\"24px\"viewBox=\"0 0 24 24\"\n",
              "       width=\"24px\">\n",
              "    <path d=\"M0 0h24v24H0V0z\" fill=\"none\"/>\n",
              "    <path d=\"M18.56 5.44l.94 2.06.94-2.06 2.06-.94-2.06-.94-.94-2.06-.94 2.06-2.06.94zm-11 1L8.5 8.5l.94-2.06 2.06-.94-2.06-.94L8.5 2.5l-.94 2.06-2.06.94zm10 10l.94 2.06.94-2.06 2.06-.94-2.06-.94-.94-2.06-.94 2.06-2.06.94z\"/><path d=\"M17.41 7.96l-1.37-1.37c-.4-.4-.92-.59-1.43-.59-.52 0-1.04.2-1.43.59L10.3 9.45l-7.72 7.72c-.78.78-.78 2.05 0 2.83L4 21.41c.39.39.9.59 1.41.59.51 0 1.02-.2 1.41-.59l7.78-7.78 2.81-2.81c.8-.78.8-2.07 0-2.86zM5.41 20L4 18.59l7.72-7.72 1.47 1.35L5.41 20z\"/>\n",
              "  </svg>\n",
              "      </button>\n",
              "      \n",
              "  <style>\n",
              "    .colab-df-container {\n",
              "      display:flex;\n",
              "      flex-wrap:wrap;\n",
              "      gap: 12px;\n",
              "    }\n",
              "\n",
              "    .colab-df-convert {\n",
              "      background-color: #E8F0FE;\n",
              "      border: none;\n",
              "      border-radius: 50%;\n",
              "      cursor: pointer;\n",
              "      display: none;\n",
              "      fill: #1967D2;\n",
              "      height: 32px;\n",
              "      padding: 0 0 0 0;\n",
              "      width: 32px;\n",
              "    }\n",
              "\n",
              "    .colab-df-convert:hover {\n",
              "      background-color: #E2EBFA;\n",
              "      box-shadow: 0px 1px 2px rgba(60, 64, 67, 0.3), 0px 1px 3px 1px rgba(60, 64, 67, 0.15);\n",
              "      fill: #174EA6;\n",
              "    }\n",
              "\n",
              "    [theme=dark] .colab-df-convert {\n",
              "      background-color: #3B4455;\n",
              "      fill: #D2E3FC;\n",
              "    }\n",
              "\n",
              "    [theme=dark] .colab-df-convert:hover {\n",
              "      background-color: #434B5C;\n",
              "      box-shadow: 0px 1px 3px 1px rgba(0, 0, 0, 0.15);\n",
              "      filter: drop-shadow(0px 1px 2px rgba(0, 0, 0, 0.3));\n",
              "      fill: #FFFFFF;\n",
              "    }\n",
              "  </style>\n",
              "\n",
              "      <script>\n",
              "        const buttonEl =\n",
              "          document.querySelector('#df-01608a96-a71f-4b63-a9b5-3174f3163aeb button.colab-df-convert');\n",
              "        buttonEl.style.display =\n",
              "          google.colab.kernel.accessAllowed ? 'block' : 'none';\n",
              "\n",
              "        async function convertToInteractive(key) {\n",
              "          const element = document.querySelector('#df-01608a96-a71f-4b63-a9b5-3174f3163aeb');\n",
              "          const dataTable =\n",
              "            await google.colab.kernel.invokeFunction('convertToInteractive',\n",
              "                                                     [key], {});\n",
              "          if (!dataTable) return;\n",
              "\n",
              "          const docLinkHtml = 'Like what you see? Visit the ' +\n",
              "            '<a target=\"_blank\" href=https://colab.research.google.com/notebooks/data_table.ipynb>data table notebook</a>'\n",
              "            + ' to learn more about interactive tables.';\n",
              "          element.innerHTML = '';\n",
              "          dataTable['output_type'] = 'display_data';\n",
              "          await google.colab.output.renderOutput(dataTable, element);\n",
              "          const docLink = document.createElement('div');\n",
              "          docLink.innerHTML = docLinkHtml;\n",
              "          element.appendChild(docLink);\n",
              "        }\n",
              "      </script>\n",
              "    </div>\n",
              "  </div>\n",
              "  "
            ]
          },
          "metadata": {},
          "execution_count": 25
        }
      ]
    },
    {
      "cell_type": "code",
      "source": [
        "for i in s:\n",
        "  df=df.append(i, ignore_index=True)"
      ],
      "metadata": {
        "colab": {
          "base_uri": "https://localhost:8080/"
        },
        "id": "2qxUXNmFSMXu",
        "outputId": "5df3247f-49bb-48a1-dbc7-2d8d10048502"
      },
      "execution_count": null,
      "outputs": [
        {
          "output_type": "stream",
          "name": "stderr",
          "text": [
            "<ipython-input-28-b42f8f75260b>:2: FutureWarning: The frame.append method is deprecated and will be removed from pandas in a future version. Use pandas.concat instead.\n",
            "  df=df.append(i, ignore_index=True)\n"
          ]
        }
      ]
    },
    {
      "cell_type": "code",
      "source": [
        "df"
      ],
      "metadata": {
        "colab": {
          "base_uri": "https://localhost:8080/",
          "height": 423
        },
        "id": "RAr20ePKS1yg",
        "outputId": "97377713-fbc4-45f0-9ab3-77d1a4eb0694"
      },
      "execution_count": null,
      "outputs": [
        {
          "output_type": "execute_result",
          "data": {
            "text/plain": [
              "      Unnamed: 0           ids  \\\n",
              "0              0  1.301327e+18   \n",
              "1              1  1.307995e+18   \n",
              "2              2  1.332262e+18   \n",
              "3              3  1.314475e+18   \n",
              "4              4  1.341468e+18   \n",
              "...          ...           ...   \n",
              "74184      18353  9.494298e+17   \n",
              "74185      18354  1.015940e+18   \n",
              "74186      18355  1.051670e+18   \n",
              "74187      18356  1.243950e+18   \n",
              "74188      18357  1.308716e+18   \n",
              "\n",
              "                                                    text  \n",
              "0      @TRTArabi ال سلول الجبان الذليل المنافق كلب من...  \n",
              "1      @TRTArabi الا يا ال زايد خبرونا \\nأما فيكم من ...  \n",
              "2      @TRTArabi السلطة وعلى راسها ال سلول هم اكبر ال...  \n",
              "3                                                    NaN  \n",
              "4      @TRTArabi الله ينصركم على  آل سلول الفتالين عي...  \n",
              "...                                                  ...  \n",
              "74184  @saudq1978 #كلنا_سلمان_كلنا_محمد\\nاوامر خير لش...  \n",
              "74185  @r2wwww @deep_71023 اوجعتي قلبي حسبي الله وكفى...  \n",
              "74186  #كلنا_ثقه_في_محمد_بن_سلمان\\n\\nاوطنا دون حدك اس...  \n",
              "74187  @7Ggg1o3GhlR9eCK @The_Saudi_girl اوف لا والله ...  \n",
              "74188  #٩٠عام_فوق_هام_السحب  اوفر حسابات نتفلكس وعندن...  \n",
              "\n",
              "[74189 rows x 3 columns]"
            ],
            "text/html": [
              "\n",
              "  <div id=\"df-c7ca7015-b57f-448b-afb6-9c1f8b59bf07\">\n",
              "    <div class=\"colab-df-container\">\n",
              "      <div>\n",
              "<style scoped>\n",
              "    .dataframe tbody tr th:only-of-type {\n",
              "        vertical-align: middle;\n",
              "    }\n",
              "\n",
              "    .dataframe tbody tr th {\n",
              "        vertical-align: top;\n",
              "    }\n",
              "\n",
              "    .dataframe thead th {\n",
              "        text-align: right;\n",
              "    }\n",
              "</style>\n",
              "<table border=\"1\" class=\"dataframe\">\n",
              "  <thead>\n",
              "    <tr style=\"text-align: right;\">\n",
              "      <th></th>\n",
              "      <th>Unnamed: 0</th>\n",
              "      <th>ids</th>\n",
              "      <th>text</th>\n",
              "    </tr>\n",
              "  </thead>\n",
              "  <tbody>\n",
              "    <tr>\n",
              "      <th>0</th>\n",
              "      <td>0</td>\n",
              "      <td>1.301327e+18</td>\n",
              "      <td>@TRTArabi ال سلول الجبان الذليل المنافق كلب من...</td>\n",
              "    </tr>\n",
              "    <tr>\n",
              "      <th>1</th>\n",
              "      <td>1</td>\n",
              "      <td>1.307995e+18</td>\n",
              "      <td>@TRTArabi الا يا ال زايد خبرونا \\nأما فيكم من ...</td>\n",
              "    </tr>\n",
              "    <tr>\n",
              "      <th>2</th>\n",
              "      <td>2</td>\n",
              "      <td>1.332262e+18</td>\n",
              "      <td>@TRTArabi السلطة وعلى راسها ال سلول هم اكبر ال...</td>\n",
              "    </tr>\n",
              "    <tr>\n",
              "      <th>3</th>\n",
              "      <td>3</td>\n",
              "      <td>1.314475e+18</td>\n",
              "      <td>NaN</td>\n",
              "    </tr>\n",
              "    <tr>\n",
              "      <th>4</th>\n",
              "      <td>4</td>\n",
              "      <td>1.341468e+18</td>\n",
              "      <td>@TRTArabi الله ينصركم على  آل سلول الفتالين عي...</td>\n",
              "    </tr>\n",
              "    <tr>\n",
              "      <th>...</th>\n",
              "      <td>...</td>\n",
              "      <td>...</td>\n",
              "      <td>...</td>\n",
              "    </tr>\n",
              "    <tr>\n",
              "      <th>74184</th>\n",
              "      <td>18353</td>\n",
              "      <td>9.494298e+17</td>\n",
              "      <td>@saudq1978 #كلنا_سلمان_كلنا_محمد\\nاوامر خير لش...</td>\n",
              "    </tr>\n",
              "    <tr>\n",
              "      <th>74185</th>\n",
              "      <td>18354</td>\n",
              "      <td>1.015940e+18</td>\n",
              "      <td>@r2wwww @deep_71023 اوجعتي قلبي حسبي الله وكفى...</td>\n",
              "    </tr>\n",
              "    <tr>\n",
              "      <th>74186</th>\n",
              "      <td>18355</td>\n",
              "      <td>1.051670e+18</td>\n",
              "      <td>#كلنا_ثقه_في_محمد_بن_سلمان\\n\\nاوطنا دون حدك اس...</td>\n",
              "    </tr>\n",
              "    <tr>\n",
              "      <th>74187</th>\n",
              "      <td>18356</td>\n",
              "      <td>1.243950e+18</td>\n",
              "      <td>@7Ggg1o3GhlR9eCK @The_Saudi_girl اوف لا والله ...</td>\n",
              "    </tr>\n",
              "    <tr>\n",
              "      <th>74188</th>\n",
              "      <td>18357</td>\n",
              "      <td>1.308716e+18</td>\n",
              "      <td>#٩٠عام_فوق_هام_السحب  اوفر حسابات نتفلكس وعندن...</td>\n",
              "    </tr>\n",
              "  </tbody>\n",
              "</table>\n",
              "<p>74189 rows × 3 columns</p>\n",
              "</div>\n",
              "      <button class=\"colab-df-convert\" onclick=\"convertToInteractive('df-c7ca7015-b57f-448b-afb6-9c1f8b59bf07')\"\n",
              "              title=\"Convert this dataframe to an interactive table.\"\n",
              "              style=\"display:none;\">\n",
              "        \n",
              "  <svg xmlns=\"http://www.w3.org/2000/svg\" height=\"24px\"viewBox=\"0 0 24 24\"\n",
              "       width=\"24px\">\n",
              "    <path d=\"M0 0h24v24H0V0z\" fill=\"none\"/>\n",
              "    <path d=\"M18.56 5.44l.94 2.06.94-2.06 2.06-.94-2.06-.94-.94-2.06-.94 2.06-2.06.94zm-11 1L8.5 8.5l.94-2.06 2.06-.94-2.06-.94L8.5 2.5l-.94 2.06-2.06.94zm10 10l.94 2.06.94-2.06 2.06-.94-2.06-.94-.94-2.06-.94 2.06-2.06.94z\"/><path d=\"M17.41 7.96l-1.37-1.37c-.4-.4-.92-.59-1.43-.59-.52 0-1.04.2-1.43.59L10.3 9.45l-7.72 7.72c-.78.78-.78 2.05 0 2.83L4 21.41c.39.39.9.59 1.41.59.51 0 1.02-.2 1.41-.59l7.78-7.78 2.81-2.81c.8-.78.8-2.07 0-2.86zM5.41 20L4 18.59l7.72-7.72 1.47 1.35L5.41 20z\"/>\n",
              "  </svg>\n",
              "      </button>\n",
              "      \n",
              "  <style>\n",
              "    .colab-df-container {\n",
              "      display:flex;\n",
              "      flex-wrap:wrap;\n",
              "      gap: 12px;\n",
              "    }\n",
              "\n",
              "    .colab-df-convert {\n",
              "      background-color: #E8F0FE;\n",
              "      border: none;\n",
              "      border-radius: 50%;\n",
              "      cursor: pointer;\n",
              "      display: none;\n",
              "      fill: #1967D2;\n",
              "      height: 32px;\n",
              "      padding: 0 0 0 0;\n",
              "      width: 32px;\n",
              "    }\n",
              "\n",
              "    .colab-df-convert:hover {\n",
              "      background-color: #E2EBFA;\n",
              "      box-shadow: 0px 1px 2px rgba(60, 64, 67, 0.3), 0px 1px 3px 1px rgba(60, 64, 67, 0.15);\n",
              "      fill: #174EA6;\n",
              "    }\n",
              "\n",
              "    [theme=dark] .colab-df-convert {\n",
              "      background-color: #3B4455;\n",
              "      fill: #D2E3FC;\n",
              "    }\n",
              "\n",
              "    [theme=dark] .colab-df-convert:hover {\n",
              "      background-color: #434B5C;\n",
              "      box-shadow: 0px 1px 3px 1px rgba(0, 0, 0, 0.15);\n",
              "      filter: drop-shadow(0px 1px 2px rgba(0, 0, 0, 0.3));\n",
              "      fill: #FFFFFF;\n",
              "    }\n",
              "  </style>\n",
              "\n",
              "      <script>\n",
              "        const buttonEl =\n",
              "          document.querySelector('#df-c7ca7015-b57f-448b-afb6-9c1f8b59bf07 button.colab-df-convert');\n",
              "        buttonEl.style.display =\n",
              "          google.colab.kernel.accessAllowed ? 'block' : 'none';\n",
              "\n",
              "        async function convertToInteractive(key) {\n",
              "          const element = document.querySelector('#df-c7ca7015-b57f-448b-afb6-9c1f8b59bf07');\n",
              "          const dataTable =\n",
              "            await google.colab.kernel.invokeFunction('convertToInteractive',\n",
              "                                                     [key], {});\n",
              "          if (!dataTable) return;\n",
              "\n",
              "          const docLinkHtml = 'Like what you see? Visit the ' +\n",
              "            '<a target=\"_blank\" href=https://colab.research.google.com/notebooks/data_table.ipynb>data table notebook</a>'\n",
              "            + ' to learn more about interactive tables.';\n",
              "          element.innerHTML = '';\n",
              "          dataTable['output_type'] = 'display_data';\n",
              "          await google.colab.output.renderOutput(dataTable, element);\n",
              "          const docLink = document.createElement('div');\n",
              "          docLink.innerHTML = docLinkHtml;\n",
              "          element.appendChild(docLink);\n",
              "        }\n",
              "      </script>\n",
              "    </div>\n",
              "  </div>\n",
              "  "
            ]
          },
          "metadata": {},
          "execution_count": 29
        }
      ]
    },
    {
      "cell_type": "code",
      "source": [
        "len(df)"
      ],
      "metadata": {
        "colab": {
          "base_uri": "https://localhost:8080/"
        },
        "id": "0_zjcqoaS7cu",
        "outputId": "cec3c3b9-2bd6-4dc7-8e90-f7fca0a15e2e"
      },
      "execution_count": null,
      "outputs": [
        {
          "output_type": "execute_result",
          "data": {
            "text/plain": [
              "74189"
            ]
          },
          "metadata": {},
          "execution_count": 30
        }
      ]
    },
    {
      "cell_type": "code",
      "source": [
        "df.to_csv('alldata.csv', index=False)"
      ],
      "metadata": {
        "id": "_5MpOFzzbgwV"
      },
      "execution_count": null,
      "outputs": []
    },
    {
      "cell_type": "code",
      "source": [
        "with open('/content/alldata.csv', encoding='utf-8', errors='replace') as f:\n",
        "    data = f.read()\n",
        "\n",
        "data_frame = pd.read_csv(io.StringIO(data))"
      ],
      "metadata": {
        "id": "hLKbwqJ1TVCs"
      },
      "execution_count": null,
      "outputs": []
    },
    {
      "cell_type": "code",
      "source": [
        "data_frame"
      ],
      "metadata": {
        "colab": {
          "base_uri": "https://localhost:8080/",
          "height": 423
        },
        "id": "WbY8Rh_wTrMi",
        "outputId": "6879a091-dcb9-488c-e79c-bf4510dfaf42"
      },
      "execution_count": null,
      "outputs": [
        {
          "output_type": "execute_result",
          "data": {
            "text/plain": [
              "      Unnamed: 0           ids  \\\n",
              "0              0  1.301327e+18   \n",
              "1              1  1.307995e+18   \n",
              "2              2  1.332262e+18   \n",
              "3              3  1.314475e+18   \n",
              "4              4  1.341468e+18   \n",
              "...          ...           ...   \n",
              "74184      18353  9.494298e+17   \n",
              "74185      18354  1.015940e+18   \n",
              "74186      18355  1.051670e+18   \n",
              "74187      18356  1.243950e+18   \n",
              "74188      18357  1.308716e+18   \n",
              "\n",
              "                                                    text  \n",
              "0      @TRTArabi ال سلول الجبان الذليل المنافق كلب من...  \n",
              "1      @TRTArabi الا يا ال زايد خبرونا \\nأما فيكم من ...  \n",
              "2      @TRTArabi السلطة وعلى راسها ال سلول هم اكبر ال...  \n",
              "3                                                    NaN  \n",
              "4      @TRTArabi الله ينصركم على  آل سلول الفتالين عي...  \n",
              "...                                                  ...  \n",
              "74184  @saudq1978 #كلنا_سلمان_كلنا_محمد\\nاوامر خير لش...  \n",
              "74185  @r2wwww @deep_71023 اوجعتي قلبي حسبي الله وكفى...  \n",
              "74186  #كلنا_ثقه_في_محمد_بن_سلمان\\n\\nاوطنا دون حدك اس...  \n",
              "74187  @7Ggg1o3GhlR9eCK @The_Saudi_girl اوف لا والله ...  \n",
              "74188  #٩٠عام_فوق_هام_السحب  اوفر حسابات نتفلكس وعندن...  \n",
              "\n",
              "[74189 rows x 3 columns]"
            ],
            "text/html": [
              "\n",
              "  <div id=\"df-4cd8d27a-6c30-4b3e-ab1e-7e554bb4c353\">\n",
              "    <div class=\"colab-df-container\">\n",
              "      <div>\n",
              "<style scoped>\n",
              "    .dataframe tbody tr th:only-of-type {\n",
              "        vertical-align: middle;\n",
              "    }\n",
              "\n",
              "    .dataframe tbody tr th {\n",
              "        vertical-align: top;\n",
              "    }\n",
              "\n",
              "    .dataframe thead th {\n",
              "        text-align: right;\n",
              "    }\n",
              "</style>\n",
              "<table border=\"1\" class=\"dataframe\">\n",
              "  <thead>\n",
              "    <tr style=\"text-align: right;\">\n",
              "      <th></th>\n",
              "      <th>Unnamed: 0</th>\n",
              "      <th>ids</th>\n",
              "      <th>text</th>\n",
              "    </tr>\n",
              "  </thead>\n",
              "  <tbody>\n",
              "    <tr>\n",
              "      <th>0</th>\n",
              "      <td>0</td>\n",
              "      <td>1.301327e+18</td>\n",
              "      <td>@TRTArabi ال سلول الجبان الذليل المنافق كلب من...</td>\n",
              "    </tr>\n",
              "    <tr>\n",
              "      <th>1</th>\n",
              "      <td>1</td>\n",
              "      <td>1.307995e+18</td>\n",
              "      <td>@TRTArabi الا يا ال زايد خبرونا \\nأما فيكم من ...</td>\n",
              "    </tr>\n",
              "    <tr>\n",
              "      <th>2</th>\n",
              "      <td>2</td>\n",
              "      <td>1.332262e+18</td>\n",
              "      <td>@TRTArabi السلطة وعلى راسها ال سلول هم اكبر ال...</td>\n",
              "    </tr>\n",
              "    <tr>\n",
              "      <th>3</th>\n",
              "      <td>3</td>\n",
              "      <td>1.314475e+18</td>\n",
              "      <td>NaN</td>\n",
              "    </tr>\n",
              "    <tr>\n",
              "      <th>4</th>\n",
              "      <td>4</td>\n",
              "      <td>1.341468e+18</td>\n",
              "      <td>@TRTArabi الله ينصركم على  آل سلول الفتالين عي...</td>\n",
              "    </tr>\n",
              "    <tr>\n",
              "      <th>...</th>\n",
              "      <td>...</td>\n",
              "      <td>...</td>\n",
              "      <td>...</td>\n",
              "    </tr>\n",
              "    <tr>\n",
              "      <th>74184</th>\n",
              "      <td>18353</td>\n",
              "      <td>9.494298e+17</td>\n",
              "      <td>@saudq1978 #كلنا_سلمان_كلنا_محمد\\nاوامر خير لش...</td>\n",
              "    </tr>\n",
              "    <tr>\n",
              "      <th>74185</th>\n",
              "      <td>18354</td>\n",
              "      <td>1.015940e+18</td>\n",
              "      <td>@r2wwww @deep_71023 اوجعتي قلبي حسبي الله وكفى...</td>\n",
              "    </tr>\n",
              "    <tr>\n",
              "      <th>74186</th>\n",
              "      <td>18355</td>\n",
              "      <td>1.051670e+18</td>\n",
              "      <td>#كلنا_ثقه_في_محمد_بن_سلمان\\n\\nاوطنا دون حدك اس...</td>\n",
              "    </tr>\n",
              "    <tr>\n",
              "      <th>74187</th>\n",
              "      <td>18356</td>\n",
              "      <td>1.243950e+18</td>\n",
              "      <td>@7Ggg1o3GhlR9eCK @The_Saudi_girl اوف لا والله ...</td>\n",
              "    </tr>\n",
              "    <tr>\n",
              "      <th>74188</th>\n",
              "      <td>18357</td>\n",
              "      <td>1.308716e+18</td>\n",
              "      <td>#٩٠عام_فوق_هام_السحب  اوفر حسابات نتفلكس وعندن...</td>\n",
              "    </tr>\n",
              "  </tbody>\n",
              "</table>\n",
              "<p>74189 rows × 3 columns</p>\n",
              "</div>\n",
              "      <button class=\"colab-df-convert\" onclick=\"convertToInteractive('df-4cd8d27a-6c30-4b3e-ab1e-7e554bb4c353')\"\n",
              "              title=\"Convert this dataframe to an interactive table.\"\n",
              "              style=\"display:none;\">\n",
              "        \n",
              "  <svg xmlns=\"http://www.w3.org/2000/svg\" height=\"24px\"viewBox=\"0 0 24 24\"\n",
              "       width=\"24px\">\n",
              "    <path d=\"M0 0h24v24H0V0z\" fill=\"none\"/>\n",
              "    <path d=\"M18.56 5.44l.94 2.06.94-2.06 2.06-.94-2.06-.94-.94-2.06-.94 2.06-2.06.94zm-11 1L8.5 8.5l.94-2.06 2.06-.94-2.06-.94L8.5 2.5l-.94 2.06-2.06.94zm10 10l.94 2.06.94-2.06 2.06-.94-2.06-.94-.94-2.06-.94 2.06-2.06.94z\"/><path d=\"M17.41 7.96l-1.37-1.37c-.4-.4-.92-.59-1.43-.59-.52 0-1.04.2-1.43.59L10.3 9.45l-7.72 7.72c-.78.78-.78 2.05 0 2.83L4 21.41c.39.39.9.59 1.41.59.51 0 1.02-.2 1.41-.59l7.78-7.78 2.81-2.81c.8-.78.8-2.07 0-2.86zM5.41 20L4 18.59l7.72-7.72 1.47 1.35L5.41 20z\"/>\n",
              "  </svg>\n",
              "      </button>\n",
              "      \n",
              "  <style>\n",
              "    .colab-df-container {\n",
              "      display:flex;\n",
              "      flex-wrap:wrap;\n",
              "      gap: 12px;\n",
              "    }\n",
              "\n",
              "    .colab-df-convert {\n",
              "      background-color: #E8F0FE;\n",
              "      border: none;\n",
              "      border-radius: 50%;\n",
              "      cursor: pointer;\n",
              "      display: none;\n",
              "      fill: #1967D2;\n",
              "      height: 32px;\n",
              "      padding: 0 0 0 0;\n",
              "      width: 32px;\n",
              "    }\n",
              "\n",
              "    .colab-df-convert:hover {\n",
              "      background-color: #E2EBFA;\n",
              "      box-shadow: 0px 1px 2px rgba(60, 64, 67, 0.3), 0px 1px 3px 1px rgba(60, 64, 67, 0.15);\n",
              "      fill: #174EA6;\n",
              "    }\n",
              "\n",
              "    [theme=dark] .colab-df-convert {\n",
              "      background-color: #3B4455;\n",
              "      fill: #D2E3FC;\n",
              "    }\n",
              "\n",
              "    [theme=dark] .colab-df-convert:hover {\n",
              "      background-color: #434B5C;\n",
              "      box-shadow: 0px 1px 3px 1px rgba(0, 0, 0, 0.15);\n",
              "      filter: drop-shadow(0px 1px 2px rgba(0, 0, 0, 0.3));\n",
              "      fill: #FFFFFF;\n",
              "    }\n",
              "  </style>\n",
              "\n",
              "      <script>\n",
              "        const buttonEl =\n",
              "          document.querySelector('#df-4cd8d27a-6c30-4b3e-ab1e-7e554bb4c353 button.colab-df-convert');\n",
              "        buttonEl.style.display =\n",
              "          google.colab.kernel.accessAllowed ? 'block' : 'none';\n",
              "\n",
              "        async function convertToInteractive(key) {\n",
              "          const element = document.querySelector('#df-4cd8d27a-6c30-4b3e-ab1e-7e554bb4c353');\n",
              "          const dataTable =\n",
              "            await google.colab.kernel.invokeFunction('convertToInteractive',\n",
              "                                                     [key], {});\n",
              "          if (!dataTable) return;\n",
              "\n",
              "          const docLinkHtml = 'Like what you see? Visit the ' +\n",
              "            '<a target=\"_blank\" href=https://colab.research.google.com/notebooks/data_table.ipynb>data table notebook</a>'\n",
              "            + ' to learn more about interactive tables.';\n",
              "          element.innerHTML = '';\n",
              "          dataTable['output_type'] = 'display_data';\n",
              "          await google.colab.output.renderOutput(dataTable, element);\n",
              "          const docLink = document.createElement('div');\n",
              "          docLink.innerHTML = docLinkHtml;\n",
              "          element.appendChild(docLink);\n",
              "        }\n",
              "      </script>\n",
              "    </div>\n",
              "  </div>\n",
              "  "
            ]
          },
          "metadata": {},
          "execution_count": 33
        }
      ]
    },
    {
      "cell_type": "code",
      "source": [
        "data_frame.columns"
      ],
      "metadata": {
        "colab": {
          "base_uri": "https://localhost:8080/"
        },
        "id": "0-X6WpS8TtHe",
        "outputId": "c0a0fd5b-251d-4250-fc9a-ba00fc5fbb5b"
      },
      "execution_count": null,
      "outputs": [
        {
          "output_type": "execute_result",
          "data": {
            "text/plain": [
              "Index(['Unnamed: 0', 'ids', 'text'], dtype='object')"
            ]
          },
          "metadata": {},
          "execution_count": 34
        }
      ]
    },
    {
      "cell_type": "code",
      "source": [
        "with open('/content/cleaned_id.csv', encoding='utf-8', errors='replace') as f:\n",
        "    data = f.read()\n",
        "\n",
        "data_frame_ = pd.read_csv(io.StringIO(data))"
      ],
      "metadata": {
        "id": "PK5aWcqkT7tC"
      },
      "execution_count": null,
      "outputs": []
    },
    {
      "cell_type": "code",
      "source": [
        "data_frame_"
      ],
      "metadata": {
        "colab": {
          "base_uri": "https://localhost:8080/",
          "height": 423
        },
        "id": "ZKYwwgBBUKoS",
        "outputId": "c1f4c653-e05b-408b-a9cc-7b09af2086ff"
      },
      "execution_count": null,
      "outputs": [
        {
          "output_type": "execute_result",
          "data": {
            "text/plain": [
              "       Unnamed: 0             Tweet_ID Label  tweet\n",
              "0               0  1359862972739371009     F  empty\n",
              "1               1  1358000045350658048     T  empty\n",
              "2               2  1357792268699242497     T  empty\n",
              "3               3  1350595656293998592     T  empty\n",
              "4               4  1349239790252797953     T  empty\n",
              "...           ...                  ...   ...    ...\n",
              "77618       89870  1051426563038830593     F  empty\n",
              "77619       89871  1348371936959672322     F  empty\n",
              "77620       89872  1051543586834145281     F  empty\n",
              "77621       89873  1051565181103419392     F  empty\n",
              "77622       89874  1051488176085327874     F  empty\n",
              "\n",
              "[77623 rows x 4 columns]"
            ],
            "text/html": [
              "\n",
              "  <div id=\"df-909dd570-6743-4458-999d-ede28c5e4f7e\">\n",
              "    <div class=\"colab-df-container\">\n",
              "      <div>\n",
              "<style scoped>\n",
              "    .dataframe tbody tr th:only-of-type {\n",
              "        vertical-align: middle;\n",
              "    }\n",
              "\n",
              "    .dataframe tbody tr th {\n",
              "        vertical-align: top;\n",
              "    }\n",
              "\n",
              "    .dataframe thead th {\n",
              "        text-align: right;\n",
              "    }\n",
              "</style>\n",
              "<table border=\"1\" class=\"dataframe\">\n",
              "  <thead>\n",
              "    <tr style=\"text-align: right;\">\n",
              "      <th></th>\n",
              "      <th>Unnamed: 0</th>\n",
              "      <th>Tweet_ID</th>\n",
              "      <th>Label</th>\n",
              "      <th>tweet</th>\n",
              "    </tr>\n",
              "  </thead>\n",
              "  <tbody>\n",
              "    <tr>\n",
              "      <th>0</th>\n",
              "      <td>0</td>\n",
              "      <td>1359862972739371009</td>\n",
              "      <td>F</td>\n",
              "      <td>empty</td>\n",
              "    </tr>\n",
              "    <tr>\n",
              "      <th>1</th>\n",
              "      <td>1</td>\n",
              "      <td>1358000045350658048</td>\n",
              "      <td>T</td>\n",
              "      <td>empty</td>\n",
              "    </tr>\n",
              "    <tr>\n",
              "      <th>2</th>\n",
              "      <td>2</td>\n",
              "      <td>1357792268699242497</td>\n",
              "      <td>T</td>\n",
              "      <td>empty</td>\n",
              "    </tr>\n",
              "    <tr>\n",
              "      <th>3</th>\n",
              "      <td>3</td>\n",
              "      <td>1350595656293998592</td>\n",
              "      <td>T</td>\n",
              "      <td>empty</td>\n",
              "    </tr>\n",
              "    <tr>\n",
              "      <th>4</th>\n",
              "      <td>4</td>\n",
              "      <td>1349239790252797953</td>\n",
              "      <td>T</td>\n",
              "      <td>empty</td>\n",
              "    </tr>\n",
              "    <tr>\n",
              "      <th>...</th>\n",
              "      <td>...</td>\n",
              "      <td>...</td>\n",
              "      <td>...</td>\n",
              "      <td>...</td>\n",
              "    </tr>\n",
              "    <tr>\n",
              "      <th>77618</th>\n",
              "      <td>89870</td>\n",
              "      <td>1051426563038830593</td>\n",
              "      <td>F</td>\n",
              "      <td>empty</td>\n",
              "    </tr>\n",
              "    <tr>\n",
              "      <th>77619</th>\n",
              "      <td>89871</td>\n",
              "      <td>1348371936959672322</td>\n",
              "      <td>F</td>\n",
              "      <td>empty</td>\n",
              "    </tr>\n",
              "    <tr>\n",
              "      <th>77620</th>\n",
              "      <td>89872</td>\n",
              "      <td>1051543586834145281</td>\n",
              "      <td>F</td>\n",
              "      <td>empty</td>\n",
              "    </tr>\n",
              "    <tr>\n",
              "      <th>77621</th>\n",
              "      <td>89873</td>\n",
              "      <td>1051565181103419392</td>\n",
              "      <td>F</td>\n",
              "      <td>empty</td>\n",
              "    </tr>\n",
              "    <tr>\n",
              "      <th>77622</th>\n",
              "      <td>89874</td>\n",
              "      <td>1051488176085327874</td>\n",
              "      <td>F</td>\n",
              "      <td>empty</td>\n",
              "    </tr>\n",
              "  </tbody>\n",
              "</table>\n",
              "<p>77623 rows × 4 columns</p>\n",
              "</div>\n",
              "      <button class=\"colab-df-convert\" onclick=\"convertToInteractive('df-909dd570-6743-4458-999d-ede28c5e4f7e')\"\n",
              "              title=\"Convert this dataframe to an interactive table.\"\n",
              "              style=\"display:none;\">\n",
              "        \n",
              "  <svg xmlns=\"http://www.w3.org/2000/svg\" height=\"24px\"viewBox=\"0 0 24 24\"\n",
              "       width=\"24px\">\n",
              "    <path d=\"M0 0h24v24H0V0z\" fill=\"none\"/>\n",
              "    <path d=\"M18.56 5.44l.94 2.06.94-2.06 2.06-.94-2.06-.94-.94-2.06-.94 2.06-2.06.94zm-11 1L8.5 8.5l.94-2.06 2.06-.94-2.06-.94L8.5 2.5l-.94 2.06-2.06.94zm10 10l.94 2.06.94-2.06 2.06-.94-2.06-.94-.94-2.06-.94 2.06-2.06.94z\"/><path d=\"M17.41 7.96l-1.37-1.37c-.4-.4-.92-.59-1.43-.59-.52 0-1.04.2-1.43.59L10.3 9.45l-7.72 7.72c-.78.78-.78 2.05 0 2.83L4 21.41c.39.39.9.59 1.41.59.51 0 1.02-.2 1.41-.59l7.78-7.78 2.81-2.81c.8-.78.8-2.07 0-2.86zM5.41 20L4 18.59l7.72-7.72 1.47 1.35L5.41 20z\"/>\n",
              "  </svg>\n",
              "      </button>\n",
              "      \n",
              "  <style>\n",
              "    .colab-df-container {\n",
              "      display:flex;\n",
              "      flex-wrap:wrap;\n",
              "      gap: 12px;\n",
              "    }\n",
              "\n",
              "    .colab-df-convert {\n",
              "      background-color: #E8F0FE;\n",
              "      border: none;\n",
              "      border-radius: 50%;\n",
              "      cursor: pointer;\n",
              "      display: none;\n",
              "      fill: #1967D2;\n",
              "      height: 32px;\n",
              "      padding: 0 0 0 0;\n",
              "      width: 32px;\n",
              "    }\n",
              "\n",
              "    .colab-df-convert:hover {\n",
              "      background-color: #E2EBFA;\n",
              "      box-shadow: 0px 1px 2px rgba(60, 64, 67, 0.3), 0px 1px 3px 1px rgba(60, 64, 67, 0.15);\n",
              "      fill: #174EA6;\n",
              "    }\n",
              "\n",
              "    [theme=dark] .colab-df-convert {\n",
              "      background-color: #3B4455;\n",
              "      fill: #D2E3FC;\n",
              "    }\n",
              "\n",
              "    [theme=dark] .colab-df-convert:hover {\n",
              "      background-color: #434B5C;\n",
              "      box-shadow: 0px 1px 3px 1px rgba(0, 0, 0, 0.15);\n",
              "      filter: drop-shadow(0px 1px 2px rgba(0, 0, 0, 0.3));\n",
              "      fill: #FFFFFF;\n",
              "    }\n",
              "  </style>\n",
              "\n",
              "      <script>\n",
              "        const buttonEl =\n",
              "          document.querySelector('#df-909dd570-6743-4458-999d-ede28c5e4f7e button.colab-df-convert');\n",
              "        buttonEl.style.display =\n",
              "          google.colab.kernel.accessAllowed ? 'block' : 'none';\n",
              "\n",
              "        async function convertToInteractive(key) {\n",
              "          const element = document.querySelector('#df-909dd570-6743-4458-999d-ede28c5e4f7e');\n",
              "          const dataTable =\n",
              "            await google.colab.kernel.invokeFunction('convertToInteractive',\n",
              "                                                     [key], {});\n",
              "          if (!dataTable) return;\n",
              "\n",
              "          const docLinkHtml = 'Like what you see? Visit the ' +\n",
              "            '<a target=\"_blank\" href=https://colab.research.google.com/notebooks/data_table.ipynb>data table notebook</a>'\n",
              "            + ' to learn more about interactive tables.';\n",
              "          element.innerHTML = '';\n",
              "          dataTable['output_type'] = 'display_data';\n",
              "          await google.colab.output.renderOutput(dataTable, element);\n",
              "          const docLink = document.createElement('div');\n",
              "          docLink.innerHTML = docLinkHtml;\n",
              "          element.appendChild(docLink);\n",
              "        }\n",
              "      </script>\n",
              "    </div>\n",
              "  </div>\n",
              "  "
            ]
          },
          "metadata": {},
          "execution_count": 36
        }
      ]
    },
    {
      "cell_type": "code",
      "source": [
        "data_frame_.columns"
      ],
      "metadata": {
        "colab": {
          "base_uri": "https://localhost:8080/"
        },
        "id": "KbcM80xeUMWe",
        "outputId": "d74e321f-6e0c-46a8-d5f7-adb0b7edaac0"
      },
      "execution_count": null,
      "outputs": [
        {
          "output_type": "execute_result",
          "data": {
            "text/plain": [
              "Index(['Unnamed: 0', 'Tweet_ID', 'Label', 'tweet'], dtype='object')"
            ]
          },
          "metadata": {},
          "execution_count": 38
        }
      ]
    },
    {
      "cell_type": "code",
      "source": [
        "data_frame_ = data_frame_.rename(columns={'Tweet_ID': 'ids'})"
      ],
      "metadata": {
        "id": "ZH4gBj-OUOsD"
      },
      "execution_count": null,
      "outputs": []
    },
    {
      "cell_type": "code",
      "source": [
        "merged_df = pd.merge(data_frame, data_frame_, on='ids')\n",
        "merged_df.to_csv('merged_file.csv', index=False)"
      ],
      "metadata": {
        "id": "HnSBeBZ_Ug9M"
      },
      "execution_count": null,
      "outputs": []
    },
    {
      "cell_type": "code",
      "source": [
        "with open('/content/merged_file.csv', encoding='utf-8', errors='replace') as f:\n",
        "    data = f.read()\n",
        "\n",
        "merged = pd.read_csv(io.StringIO(data))"
      ],
      "metadata": {
        "id": "Bg_QIeLCU1vD"
      },
      "execution_count": null,
      "outputs": []
    },
    {
      "cell_type": "code",
      "source": [
        "merged"
      ],
      "metadata": {
        "colab": {
          "base_uri": "https://localhost:8080/",
          "height": 467
        },
        "id": "kWNFss7RVCb8",
        "outputId": "69d1a909-1a3a-4ebd-a774-4a4b38552e14"
      },
      "execution_count": null,
      "outputs": [
        {
          "output_type": "execute_result",
          "data": {
            "text/plain": [
              "       Unnamed: 0_x           ids  \\\n",
              "0                 0  1.301327e+18   \n",
              "1                 0  1.301327e+18   \n",
              "2                 1  1.307995e+18   \n",
              "3                 1  1.307995e+18   \n",
              "4                 6  1.321068e+18   \n",
              "...             ...           ...   \n",
              "27291          9337  1.285298e+18   \n",
              "27292          9339  1.282019e+18   \n",
              "27293          9340  1.302504e+18   \n",
              "27294          9341  1.294151e+18   \n",
              "27295          9342  1.314466e+18   \n",
              "\n",
              "                                                    text  Unnamed: 0_y Label  \\\n",
              "0      @TRTArabi ال سلول الجبان الذليل المنافق كلب من...         52252     T   \n",
              "1      @TRTArabi ال سلول الجبان الذليل المنافق كلب من...         52252     T   \n",
              "2      @TRTArabi الا يا ال زايد خبرونا \\nأما فيكم من ...         52254     T   \n",
              "3      @TRTArabi الا يا ال زايد خبرونا \\nأما فيكم من ...         52254     T   \n",
              "4                                                    NaN         52259     T   \n",
              "...                                                  ...           ...   ...   \n",
              "27291  @TRLuxuryFurni84 يارررررب...نفرح بزوال حكم أل ...         52244     T   \n",
              "27292               @Trseso90 الحق على ال سلول هم خطفوهم         52247     T   \n",
              "27293  @Trt10616790 @SalaheddinMora1 @Mohdelmoctar @m...         52248     T   \n",
              "27294  @trt123430 @T1beCVnnEzLlKzO @DrAlnefisi لما شر...         52249     T   \n",
              "27295  @TRTArabi @mshinqiti آل سلول ...\\nيفضحون أنفسه...         52250     T   \n",
              "\n",
              "       tweet  \n",
              "0      empty  \n",
              "1      empty  \n",
              "2      empty  \n",
              "3      empty  \n",
              "4      empty  \n",
              "...      ...  \n",
              "27291  empty  \n",
              "27292  empty  \n",
              "27293  empty  \n",
              "27294  empty  \n",
              "27295  empty  \n",
              "\n",
              "[27296 rows x 6 columns]"
            ],
            "text/html": [
              "\n",
              "  <div id=\"df-930b3cc9-d8da-4891-b034-65ccbd505b5f\">\n",
              "    <div class=\"colab-df-container\">\n",
              "      <div>\n",
              "<style scoped>\n",
              "    .dataframe tbody tr th:only-of-type {\n",
              "        vertical-align: middle;\n",
              "    }\n",
              "\n",
              "    .dataframe tbody tr th {\n",
              "        vertical-align: top;\n",
              "    }\n",
              "\n",
              "    .dataframe thead th {\n",
              "        text-align: right;\n",
              "    }\n",
              "</style>\n",
              "<table border=\"1\" class=\"dataframe\">\n",
              "  <thead>\n",
              "    <tr style=\"text-align: right;\">\n",
              "      <th></th>\n",
              "      <th>Unnamed: 0_x</th>\n",
              "      <th>ids</th>\n",
              "      <th>text</th>\n",
              "      <th>Unnamed: 0_y</th>\n",
              "      <th>Label</th>\n",
              "      <th>tweet</th>\n",
              "    </tr>\n",
              "  </thead>\n",
              "  <tbody>\n",
              "    <tr>\n",
              "      <th>0</th>\n",
              "      <td>0</td>\n",
              "      <td>1.301327e+18</td>\n",
              "      <td>@TRTArabi ال سلول الجبان الذليل المنافق كلب من...</td>\n",
              "      <td>52252</td>\n",
              "      <td>T</td>\n",
              "      <td>empty</td>\n",
              "    </tr>\n",
              "    <tr>\n",
              "      <th>1</th>\n",
              "      <td>0</td>\n",
              "      <td>1.301327e+18</td>\n",
              "      <td>@TRTArabi ال سلول الجبان الذليل المنافق كلب من...</td>\n",
              "      <td>52252</td>\n",
              "      <td>T</td>\n",
              "      <td>empty</td>\n",
              "    </tr>\n",
              "    <tr>\n",
              "      <th>2</th>\n",
              "      <td>1</td>\n",
              "      <td>1.307995e+18</td>\n",
              "      <td>@TRTArabi الا يا ال زايد خبرونا \\nأما فيكم من ...</td>\n",
              "      <td>52254</td>\n",
              "      <td>T</td>\n",
              "      <td>empty</td>\n",
              "    </tr>\n",
              "    <tr>\n",
              "      <th>3</th>\n",
              "      <td>1</td>\n",
              "      <td>1.307995e+18</td>\n",
              "      <td>@TRTArabi الا يا ال زايد خبرونا \\nأما فيكم من ...</td>\n",
              "      <td>52254</td>\n",
              "      <td>T</td>\n",
              "      <td>empty</td>\n",
              "    </tr>\n",
              "    <tr>\n",
              "      <th>4</th>\n",
              "      <td>6</td>\n",
              "      <td>1.321068e+18</td>\n",
              "      <td>NaN</td>\n",
              "      <td>52259</td>\n",
              "      <td>T</td>\n",
              "      <td>empty</td>\n",
              "    </tr>\n",
              "    <tr>\n",
              "      <th>...</th>\n",
              "      <td>...</td>\n",
              "      <td>...</td>\n",
              "      <td>...</td>\n",
              "      <td>...</td>\n",
              "      <td>...</td>\n",
              "      <td>...</td>\n",
              "    </tr>\n",
              "    <tr>\n",
              "      <th>27291</th>\n",
              "      <td>9337</td>\n",
              "      <td>1.285298e+18</td>\n",
              "      <td>@TRLuxuryFurni84 يارررررب...نفرح بزوال حكم أل ...</td>\n",
              "      <td>52244</td>\n",
              "      <td>T</td>\n",
              "      <td>empty</td>\n",
              "    </tr>\n",
              "    <tr>\n",
              "      <th>27292</th>\n",
              "      <td>9339</td>\n",
              "      <td>1.282019e+18</td>\n",
              "      <td>@Trseso90 الحق على ال سلول هم خطفوهم</td>\n",
              "      <td>52247</td>\n",
              "      <td>T</td>\n",
              "      <td>empty</td>\n",
              "    </tr>\n",
              "    <tr>\n",
              "      <th>27293</th>\n",
              "      <td>9340</td>\n",
              "      <td>1.302504e+18</td>\n",
              "      <td>@Trt10616790 @SalaheddinMora1 @Mohdelmoctar @m...</td>\n",
              "      <td>52248</td>\n",
              "      <td>T</td>\n",
              "      <td>empty</td>\n",
              "    </tr>\n",
              "    <tr>\n",
              "      <th>27294</th>\n",
              "      <td>9341</td>\n",
              "      <td>1.294151e+18</td>\n",
              "      <td>@trt123430 @T1beCVnnEzLlKzO @DrAlnefisi لما شر...</td>\n",
              "      <td>52249</td>\n",
              "      <td>T</td>\n",
              "      <td>empty</td>\n",
              "    </tr>\n",
              "    <tr>\n",
              "      <th>27295</th>\n",
              "      <td>9342</td>\n",
              "      <td>1.314466e+18</td>\n",
              "      <td>@TRTArabi @mshinqiti آل سلول ...\\nيفضحون أنفسه...</td>\n",
              "      <td>52250</td>\n",
              "      <td>T</td>\n",
              "      <td>empty</td>\n",
              "    </tr>\n",
              "  </tbody>\n",
              "</table>\n",
              "<p>27296 rows × 6 columns</p>\n",
              "</div>\n",
              "      <button class=\"colab-df-convert\" onclick=\"convertToInteractive('df-930b3cc9-d8da-4891-b034-65ccbd505b5f')\"\n",
              "              title=\"Convert this dataframe to an interactive table.\"\n",
              "              style=\"display:none;\">\n",
              "        \n",
              "  <svg xmlns=\"http://www.w3.org/2000/svg\" height=\"24px\"viewBox=\"0 0 24 24\"\n",
              "       width=\"24px\">\n",
              "    <path d=\"M0 0h24v24H0V0z\" fill=\"none\"/>\n",
              "    <path d=\"M18.56 5.44l.94 2.06.94-2.06 2.06-.94-2.06-.94-.94-2.06-.94 2.06-2.06.94zm-11 1L8.5 8.5l.94-2.06 2.06-.94-2.06-.94L8.5 2.5l-.94 2.06-2.06.94zm10 10l.94 2.06.94-2.06 2.06-.94-2.06-.94-.94-2.06-.94 2.06-2.06.94z\"/><path d=\"M17.41 7.96l-1.37-1.37c-.4-.4-.92-.59-1.43-.59-.52 0-1.04.2-1.43.59L10.3 9.45l-7.72 7.72c-.78.78-.78 2.05 0 2.83L4 21.41c.39.39.9.59 1.41.59.51 0 1.02-.2 1.41-.59l7.78-7.78 2.81-2.81c.8-.78.8-2.07 0-2.86zM5.41 20L4 18.59l7.72-7.72 1.47 1.35L5.41 20z\"/>\n",
              "  </svg>\n",
              "      </button>\n",
              "      \n",
              "  <style>\n",
              "    .colab-df-container {\n",
              "      display:flex;\n",
              "      flex-wrap:wrap;\n",
              "      gap: 12px;\n",
              "    }\n",
              "\n",
              "    .colab-df-convert {\n",
              "      background-color: #E8F0FE;\n",
              "      border: none;\n",
              "      border-radius: 50%;\n",
              "      cursor: pointer;\n",
              "      display: none;\n",
              "      fill: #1967D2;\n",
              "      height: 32px;\n",
              "      padding: 0 0 0 0;\n",
              "      width: 32px;\n",
              "    }\n",
              "\n",
              "    .colab-df-convert:hover {\n",
              "      background-color: #E2EBFA;\n",
              "      box-shadow: 0px 1px 2px rgba(60, 64, 67, 0.3), 0px 1px 3px 1px rgba(60, 64, 67, 0.15);\n",
              "      fill: #174EA6;\n",
              "    }\n",
              "\n",
              "    [theme=dark] .colab-df-convert {\n",
              "      background-color: #3B4455;\n",
              "      fill: #D2E3FC;\n",
              "    }\n",
              "\n",
              "    [theme=dark] .colab-df-convert:hover {\n",
              "      background-color: #434B5C;\n",
              "      box-shadow: 0px 1px 3px 1px rgba(0, 0, 0, 0.15);\n",
              "      filter: drop-shadow(0px 1px 2px rgba(0, 0, 0, 0.3));\n",
              "      fill: #FFFFFF;\n",
              "    }\n",
              "  </style>\n",
              "\n",
              "      <script>\n",
              "        const buttonEl =\n",
              "          document.querySelector('#df-930b3cc9-d8da-4891-b034-65ccbd505b5f button.colab-df-convert');\n",
              "        buttonEl.style.display =\n",
              "          google.colab.kernel.accessAllowed ? 'block' : 'none';\n",
              "\n",
              "        async function convertToInteractive(key) {\n",
              "          const element = document.querySelector('#df-930b3cc9-d8da-4891-b034-65ccbd505b5f');\n",
              "          const dataTable =\n",
              "            await google.colab.kernel.invokeFunction('convertToInteractive',\n",
              "                                                     [key], {});\n",
              "          if (!dataTable) return;\n",
              "\n",
              "          const docLinkHtml = 'Like what you see? Visit the ' +\n",
              "            '<a target=\"_blank\" href=https://colab.research.google.com/notebooks/data_table.ipynb>data table notebook</a>'\n",
              "            + ' to learn more about interactive tables.';\n",
              "          element.innerHTML = '';\n",
              "          dataTable['output_type'] = 'display_data';\n",
              "          await google.colab.output.renderOutput(dataTable, element);\n",
              "          const docLink = document.createElement('div');\n",
              "          docLink.innerHTML = docLinkHtml;\n",
              "          element.appendChild(docLink);\n",
              "        }\n",
              "      </script>\n",
              "    </div>\n",
              "  </div>\n",
              "  "
            ]
          },
          "metadata": {},
          "execution_count": 42
        }
      ]
    },
    {
      "cell_type": "code",
      "source": [
        "len(merged)"
      ],
      "metadata": {
        "colab": {
          "base_uri": "https://localhost:8080/"
        },
        "id": "40BIqlGKVFRR",
        "outputId": "39696988-eac4-4912-b4b8-2cc9289adf13"
      },
      "execution_count": null,
      "outputs": [
        {
          "output_type": "execute_result",
          "data": {
            "text/plain": [
              "27296"
            ]
          },
          "metadata": {},
          "execution_count": 43
        }
      ]
    },
    {
      "cell_type": "code",
      "source": [
        "from google.colab import files\n",
        "files.download('allData.csv')"
      ],
      "metadata": {
        "colab": {
          "base_uri": "https://localhost:8080/",
          "height": 17
        },
        "id": "JjUg2w28XpUB",
        "outputId": "ad93b39a-bf9f-475b-8282-23ad662a11a0"
      },
      "execution_count": null,
      "outputs": [
        {
          "output_type": "display_data",
          "data": {
            "text/plain": [
              "<IPython.core.display.Javascript object>"
            ],
            "application/javascript": [
              "\n",
              "    async function download(id, filename, size) {\n",
              "      if (!google.colab.kernel.accessAllowed) {\n",
              "        return;\n",
              "      }\n",
              "      const div = document.createElement('div');\n",
              "      const label = document.createElement('label');\n",
              "      label.textContent = `Downloading \"${filename}\": `;\n",
              "      div.appendChild(label);\n",
              "      const progress = document.createElement('progress');\n",
              "      progress.max = size;\n",
              "      div.appendChild(progress);\n",
              "      document.body.appendChild(div);\n",
              "\n",
              "      const buffers = [];\n",
              "      let downloaded = 0;\n",
              "\n",
              "      const channel = await google.colab.kernel.comms.open(id);\n",
              "      // Send a message to notify the kernel that we're ready.\n",
              "      channel.send({})\n",
              "\n",
              "      for await (const message of channel.messages) {\n",
              "        // Send a message to notify the kernel that we're ready.\n",
              "        channel.send({})\n",
              "        if (message.buffers) {\n",
              "          for (const buffer of message.buffers) {\n",
              "            buffers.push(buffer);\n",
              "            downloaded += buffer.byteLength;\n",
              "            progress.value = downloaded;\n",
              "          }\n",
              "        }\n",
              "      }\n",
              "      const blob = new Blob(buffers, {type: 'application/binary'});\n",
              "      const a = document.createElement('a');\n",
              "      a.href = window.URL.createObjectURL(blob);\n",
              "      a.download = filename;\n",
              "      div.appendChild(a);\n",
              "      a.click();\n",
              "      div.remove();\n",
              "    }\n",
              "  "
            ]
          },
          "metadata": {}
        },
        {
          "output_type": "display_data",
          "data": {
            "text/plain": [
              "<IPython.core.display.Javascript object>"
            ],
            "application/javascript": [
              "download(\"download_788b3726-eebd-4458-afea-730aacc5cead\", \"allData.csv\", 19973113)"
            ]
          },
          "metadata": {}
        }
      ]
    },
    {
      "cell_type": "code",
      "source": [
        "from google.colab import files\n",
        "files.download('merged_file.csv')"
      ],
      "metadata": {
        "id": "eOF16jChbigM"
      },
      "execution_count": null,
      "outputs": []
    }
  ]
}