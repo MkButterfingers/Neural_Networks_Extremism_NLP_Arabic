{
  "nbformat": 4,
  "nbformat_minor": 0,
  "metadata": {
    "colab": {
      "provenance": []
    },
    "kernelspec": {
      "name": "python3",
      "display_name": "Python 3"
    },
    "language_info": {
      "name": "python"
    }
  },
  "cells": [
    {
      "cell_type": "code",
      "source": [
        "import pandas as pd\n",
        "import numpy as np\n",
        "import matplotlib.pyplot as plt\n",
        "import string\n",
        "import re\n",
        "from nltk.corpus import stopwords\n",
        "from sklearn.model_selection import train_test_split, GridSearchCV\n",
        "from sklearn.feature_extraction.text import TfidfVectorizer\n",
        "from sklearn.pipeline import make_pipeline\n",
        "from sklearn.linear_model import LogisticRegression\n",
        "from sklearn.ensemble import RandomForestClassifier\n",
        "from sklearn.naive_bayes import MultinomialNB\n",
        "from sklearn.svm import SVC\n",
        "from sklearn.metrics import confusion_matrix,accuracy_score, classification_report\n",
        "import nltk\n",
        "from nltk.tokenize import word_tokenize, sent_tokenize\n",
        "from nltk.corpus import stopwords\n",
        "import seaborn as sns"
      ],
      "metadata": {
        "id": "JKGMR6ALMr6I"
      },
      "execution_count": 213,
      "outputs": []
    },
    {
      "cell_type": "markdown",
      "source": [
        "# Reading the file\n",
        "\n"
      ],
      "metadata": {
        "id": "mm5841piu2X6"
      }
    },
    {
      "cell_type": "code",
      "source": [
        "data = pd.read_excel(r\"/content/merged_tweets.xlsx\")"
      ],
      "metadata": {
        "id": "iwGBDXJ6NIdW"
      },
      "execution_count": 214,
      "outputs": []
    },
    {
      "cell_type": "code",
      "source": [
        "data"
      ],
      "metadata": {
        "colab": {
          "base_uri": "https://localhost:8080/",
          "height": 423
        },
        "id": "e7t60g4YNbJu",
        "outputId": "b990a63b-80fb-413a-8766-824e5c2787f9"
      },
      "execution_count": 124,
      "outputs": [
        {
          "output_type": "execute_result",
          "data": {
            "text/plain": [
              "                  tweet_id                                               text  \\\n",
              "0      1359862972739371009  @MalikAltayeb1 @aswagalmal كلام عين العقل ...\\...   \n",
              "1      1358000045350658048  سبحان الله صارو العملاء يدعون الإلهية وهم يتنب...   \n",
              "2      1357792268699242497  الحاصل أن الحكام العملاء الذين أفنوا أعمارهم ف...   \n",
              "3      1350595656293998592  الوصف المثالي لسنه الي اشتغلتها في ماكدونالدز ...   \n",
              "4      1349239790252797953  نُطالب بحاكم مسلم الان لإصلاح السودان وطرد الع...   \n",
              "...                    ...                                                ...   \n",
              "55891   949429796546732033  @saudq1978 #كلنا_سلمان_كلنا_محمد\\nاوامر خير لش...   \n",
              "55892  1015940006978912257  @r2wwww @deep_71023 اوجعتي قلبي حسبي الله وكفى...   \n",
              "55893  1051670259722260480  #كلنا_ثقه_في_محمد_بن_سلمان\\n\\nاوطنا دون حدك اس...   \n",
              "55894  1243950429488250880  @7Ggg1o3GhlR9eCK @The_Saudi_girl اوف لا والله ...   \n",
              "55895  1308716311095246848  #٩٠عام_فوق_هام_السحب  اوفر حسابات نتفلكس وعندن...   \n",
              "\n",
              "      Label  \n",
              "0         F  \n",
              "1         T  \n",
              "2         T  \n",
              "3         T  \n",
              "4         T  \n",
              "...     ...  \n",
              "55891     F  \n",
              "55892     F  \n",
              "55893     F  \n",
              "55894     F  \n",
              "55895     F  \n",
              "\n",
              "[55896 rows x 3 columns]"
            ],
            "text/html": [
              "\n",
              "  <div id=\"df-84bbd3eb-050e-405d-8b6d-e092de2155a8\">\n",
              "    <div class=\"colab-df-container\">\n",
              "      <div>\n",
              "<style scoped>\n",
              "    .dataframe tbody tr th:only-of-type {\n",
              "        vertical-align: middle;\n",
              "    }\n",
              "\n",
              "    .dataframe tbody tr th {\n",
              "        vertical-align: top;\n",
              "    }\n",
              "\n",
              "    .dataframe thead th {\n",
              "        text-align: right;\n",
              "    }\n",
              "</style>\n",
              "<table border=\"1\" class=\"dataframe\">\n",
              "  <thead>\n",
              "    <tr style=\"text-align: right;\">\n",
              "      <th></th>\n",
              "      <th>tweet_id</th>\n",
              "      <th>text</th>\n",
              "      <th>Label</th>\n",
              "    </tr>\n",
              "  </thead>\n",
              "  <tbody>\n",
              "    <tr>\n",
              "      <th>0</th>\n",
              "      <td>1359862972739371009</td>\n",
              "      <td>@MalikAltayeb1 @aswagalmal كلام عين العقل ...\\...</td>\n",
              "      <td>F</td>\n",
              "    </tr>\n",
              "    <tr>\n",
              "      <th>1</th>\n",
              "      <td>1358000045350658048</td>\n",
              "      <td>سبحان الله صارو العملاء يدعون الإلهية وهم يتنب...</td>\n",
              "      <td>T</td>\n",
              "    </tr>\n",
              "    <tr>\n",
              "      <th>2</th>\n",
              "      <td>1357792268699242497</td>\n",
              "      <td>الحاصل أن الحكام العملاء الذين أفنوا أعمارهم ف...</td>\n",
              "      <td>T</td>\n",
              "    </tr>\n",
              "    <tr>\n",
              "      <th>3</th>\n",
              "      <td>1350595656293998592</td>\n",
              "      <td>الوصف المثالي لسنه الي اشتغلتها في ماكدونالدز ...</td>\n",
              "      <td>T</td>\n",
              "    </tr>\n",
              "    <tr>\n",
              "      <th>4</th>\n",
              "      <td>1349239790252797953</td>\n",
              "      <td>نُطالب بحاكم مسلم الان لإصلاح السودان وطرد الع...</td>\n",
              "      <td>T</td>\n",
              "    </tr>\n",
              "    <tr>\n",
              "      <th>...</th>\n",
              "      <td>...</td>\n",
              "      <td>...</td>\n",
              "      <td>...</td>\n",
              "    </tr>\n",
              "    <tr>\n",
              "      <th>55891</th>\n",
              "      <td>949429796546732033</td>\n",
              "      <td>@saudq1978 #كلنا_سلمان_كلنا_محمد\\nاوامر خير لش...</td>\n",
              "      <td>F</td>\n",
              "    </tr>\n",
              "    <tr>\n",
              "      <th>55892</th>\n",
              "      <td>1015940006978912257</td>\n",
              "      <td>@r2wwww @deep_71023 اوجعتي قلبي حسبي الله وكفى...</td>\n",
              "      <td>F</td>\n",
              "    </tr>\n",
              "    <tr>\n",
              "      <th>55893</th>\n",
              "      <td>1051670259722260480</td>\n",
              "      <td>#كلنا_ثقه_في_محمد_بن_سلمان\\n\\nاوطنا دون حدك اس...</td>\n",
              "      <td>F</td>\n",
              "    </tr>\n",
              "    <tr>\n",
              "      <th>55894</th>\n",
              "      <td>1243950429488250880</td>\n",
              "      <td>@7Ggg1o3GhlR9eCK @The_Saudi_girl اوف لا والله ...</td>\n",
              "      <td>F</td>\n",
              "    </tr>\n",
              "    <tr>\n",
              "      <th>55895</th>\n",
              "      <td>1308716311095246848</td>\n",
              "      <td>#٩٠عام_فوق_هام_السحب  اوفر حسابات نتفلكس وعندن...</td>\n",
              "      <td>F</td>\n",
              "    </tr>\n",
              "  </tbody>\n",
              "</table>\n",
              "<p>55896 rows × 3 columns</p>\n",
              "</div>\n",
              "      <button class=\"colab-df-convert\" onclick=\"convertToInteractive('df-84bbd3eb-050e-405d-8b6d-e092de2155a8')\"\n",
              "              title=\"Convert this dataframe to an interactive table.\"\n",
              "              style=\"display:none;\">\n",
              "        \n",
              "  <svg xmlns=\"http://www.w3.org/2000/svg\" height=\"24px\"viewBox=\"0 0 24 24\"\n",
              "       width=\"24px\">\n",
              "    <path d=\"M0 0h24v24H0V0z\" fill=\"none\"/>\n",
              "    <path d=\"M18.56 5.44l.94 2.06.94-2.06 2.06-.94-2.06-.94-.94-2.06-.94 2.06-2.06.94zm-11 1L8.5 8.5l.94-2.06 2.06-.94-2.06-.94L8.5 2.5l-.94 2.06-2.06.94zm10 10l.94 2.06.94-2.06 2.06-.94-2.06-.94-.94-2.06-.94 2.06-2.06.94z\"/><path d=\"M17.41 7.96l-1.37-1.37c-.4-.4-.92-.59-1.43-.59-.52 0-1.04.2-1.43.59L10.3 9.45l-7.72 7.72c-.78.78-.78 2.05 0 2.83L4 21.41c.39.39.9.59 1.41.59.51 0 1.02-.2 1.41-.59l7.78-7.78 2.81-2.81c.8-.78.8-2.07 0-2.86zM5.41 20L4 18.59l7.72-7.72 1.47 1.35L5.41 20z\"/>\n",
              "  </svg>\n",
              "      </button>\n",
              "      \n",
              "  <style>\n",
              "    .colab-df-container {\n",
              "      display:flex;\n",
              "      flex-wrap:wrap;\n",
              "      gap: 12px;\n",
              "    }\n",
              "\n",
              "    .colab-df-convert {\n",
              "      background-color: #E8F0FE;\n",
              "      border: none;\n",
              "      border-radius: 50%;\n",
              "      cursor: pointer;\n",
              "      display: none;\n",
              "      fill: #1967D2;\n",
              "      height: 32px;\n",
              "      padding: 0 0 0 0;\n",
              "      width: 32px;\n",
              "    }\n",
              "\n",
              "    .colab-df-convert:hover {\n",
              "      background-color: #E2EBFA;\n",
              "      box-shadow: 0px 1px 2px rgba(60, 64, 67, 0.3), 0px 1px 3px 1px rgba(60, 64, 67, 0.15);\n",
              "      fill: #174EA6;\n",
              "    }\n",
              "\n",
              "    [theme=dark] .colab-df-convert {\n",
              "      background-color: #3B4455;\n",
              "      fill: #D2E3FC;\n",
              "    }\n",
              "\n",
              "    [theme=dark] .colab-df-convert:hover {\n",
              "      background-color: #434B5C;\n",
              "      box-shadow: 0px 1px 3px 1px rgba(0, 0, 0, 0.15);\n",
              "      filter: drop-shadow(0px 1px 2px rgba(0, 0, 0, 0.3));\n",
              "      fill: #FFFFFF;\n",
              "    }\n",
              "  </style>\n",
              "\n",
              "      <script>\n",
              "        const buttonEl =\n",
              "          document.querySelector('#df-84bbd3eb-050e-405d-8b6d-e092de2155a8 button.colab-df-convert');\n",
              "        buttonEl.style.display =\n",
              "          google.colab.kernel.accessAllowed ? 'block' : 'none';\n",
              "\n",
              "        async function convertToInteractive(key) {\n",
              "          const element = document.querySelector('#df-84bbd3eb-050e-405d-8b6d-e092de2155a8');\n",
              "          const dataTable =\n",
              "            await google.colab.kernel.invokeFunction('convertToInteractive',\n",
              "                                                     [key], {});\n",
              "          if (!dataTable) return;\n",
              "\n",
              "          const docLinkHtml = 'Like what you see? Visit the ' +\n",
              "            '<a target=\"_blank\" href=https://colab.research.google.com/notebooks/data_table.ipynb>data table notebook</a>'\n",
              "            + ' to learn more about interactive tables.';\n",
              "          element.innerHTML = '';\n",
              "          dataTable['output_type'] = 'display_data';\n",
              "          await google.colab.output.renderOutput(dataTable, element);\n",
              "          const docLink = document.createElement('div');\n",
              "          docLink.innerHTML = docLinkHtml;\n",
              "          element.appendChild(docLink);\n",
              "        }\n",
              "      </script>\n",
              "    </div>\n",
              "  </div>\n",
              "  "
            ]
          },
          "metadata": {},
          "execution_count": 124
        }
      ]
    },
    {
      "cell_type": "markdown",
      "source": [
        "# Cleaning and preprocessing"
      ],
      "metadata": {
        "id": "at1ImcCEvIfE"
      }
    },
    {
      "cell_type": "code",
      "source": [
        "data.drop(columns=['tweet_id'],inplace=True)"
      ],
      "metadata": {
        "id": "RE61bhzLNeU2"
      },
      "execution_count": 125,
      "outputs": []
    },
    {
      "cell_type": "code",
      "source": [
        "data = data.astype(str)"
      ],
      "metadata": {
        "id": "uo-OUZeGN6Om"
      },
      "execution_count": 126,
      "outputs": []
    },
    {
      "cell_type": "code",
      "source": [
        "class preprocessing:\n",
        "  arabic_diacritics = re.compile(\"\"\"\n",
        "                             ّ    | # Tashdid\n",
        "                             َ    | # Fatha\n",
        "                             ً    | # Tanwin Fath\n",
        "                             ُ    | # Damma\n",
        "                             ٌ    | # Tanwin Damm\n",
        "                             ِ    | # Kasra\n",
        "                             ٍ    | # Tanwin Kasr\n",
        "                             ْ    | # Sukun\n",
        "                             ـ     # Tatwil/Kashida\n",
        "                         \"\"\", re.VERBOSE)\n",
        "\n",
        "\n",
        "  def normalize(sentence):\n",
        "    sentence = re.sub(r'[^\\u0600-\\u06FF\\s😀-🙏]+', '', sentence)\n",
        "    sentence = re.sub(r'@[A-Za-z0-9_]+', '', sentence)\n",
        "    sentence = re.sub(r'https?://[^\\s]+', '', sentence)\n",
        "    sentence = re.sub(r'[!.,;?]+', ' ', sentence)\n",
        "    sentence = re.sub(\"[إأآا]\", \"ا\", sentence)\n",
        "    sentence = re.sub(\"ى\", \"ي\", sentence)\n",
        "    sentence = re.sub(\"ؤ\", \"ء\", sentence)\n",
        "    sentence = re.sub(\"ئ\", \"ء\", sentence)\n",
        "    sentence = re.sub(\"ة\", \"ه\", sentence)\n",
        "    sentence = re.sub(\"گ\", \"ك\", sentence)\n",
        "    sentence = re.sub(r'\\n', '', sentence)\n",
        "    return sentence\n",
        "\n",
        "  def remove_diacritics(text):\n",
        "    text = re.sub(arabic_diacritics, '', text)\n",
        "    return text\n",
        "\n",
        "  def remove_repeating_char(sentence):\n",
        "    return re.sub(r'(.)\\1+', r'\\1', sentence)\n",
        "\n",
        "  def remove_punkt(sentence):\n",
        "    text = re.sub(r'[^\\w\\s]',\"\",sentence)\n",
        "    return text\n",
        "  def preprocess(sentence):\n",
        "    clean = preprocessing.normalize(sentence)\n",
        "    clean = preprocessing.remove_punkt(clean)\n",
        "    return clean"
      ],
      "metadata": {
        "id": "tL9wtDk7N-At"
      },
      "execution_count": 127,
      "outputs": []
    },
    {
      "cell_type": "code",
      "source": [
        "data['text'] = data['text'].apply(preprocessing.preprocess)"
      ],
      "metadata": {
        "id": "1J8N0H5PPwfE"
      },
      "execution_count": 128,
      "outputs": []
    },
    {
      "cell_type": "code",
      "source": [
        "data"
      ],
      "metadata": {
        "colab": {
          "base_uri": "https://localhost:8080/",
          "height": 423
        },
        "id": "2K5hSh8qRAdi",
        "outputId": "7e4e6f61-28a2-478b-fc6b-8e0a929b3647"
      },
      "execution_count": 129,
      "outputs": [
        {
          "output_type": "execute_result",
          "data": {
            "text/plain": [
              "                                                    text Label\n",
              "0        كلام عين العقل دكتاتور علي العملاء والخونه ع...     F\n",
              "1      سبحان الله صارو العملاء يدعون الالهيه وهم يتنب...     T\n",
              "2      الحاصل ان الحكام العملاء الذين افنوا اعمارهم ف...     T\n",
              "3      الوصف المثالي لسنه الي اشتغلتها في ماكدونالدز ...     T\n",
              "4      نطالب بحاكم مسلم الان لاصلاح السودان وطرد العم...     T\n",
              "...                                                  ...   ...\n",
              "55891   كلناسلمانكلنامحمداوامر خير لشعب الخيربالنسبه ...     F\n",
              "55892    اوجعتي قلبي حسبي الله وكفي كلنا امل في حكومه...     F\n",
              "55893  كلناثقهفيمحمدبنسلماناوطنا دون حدك اسود ال سعود...     F\n",
              "55894    اوف لا والله طالت وشمخت لا الوضع ماينسكت علي...     F\n",
              "55895  ٩٠عامفوقهامالسحب  اوفر حسابات نتفلكس وعندنا عر...     F\n",
              "\n",
              "[55896 rows x 2 columns]"
            ],
            "text/html": [
              "\n",
              "  <div id=\"df-a172d816-a64b-4be6-8baf-1fa0894acad1\">\n",
              "    <div class=\"colab-df-container\">\n",
              "      <div>\n",
              "<style scoped>\n",
              "    .dataframe tbody tr th:only-of-type {\n",
              "        vertical-align: middle;\n",
              "    }\n",
              "\n",
              "    .dataframe tbody tr th {\n",
              "        vertical-align: top;\n",
              "    }\n",
              "\n",
              "    .dataframe thead th {\n",
              "        text-align: right;\n",
              "    }\n",
              "</style>\n",
              "<table border=\"1\" class=\"dataframe\">\n",
              "  <thead>\n",
              "    <tr style=\"text-align: right;\">\n",
              "      <th></th>\n",
              "      <th>text</th>\n",
              "      <th>Label</th>\n",
              "    </tr>\n",
              "  </thead>\n",
              "  <tbody>\n",
              "    <tr>\n",
              "      <th>0</th>\n",
              "      <td>كلام عين العقل دكتاتور علي العملاء والخونه ع...</td>\n",
              "      <td>F</td>\n",
              "    </tr>\n",
              "    <tr>\n",
              "      <th>1</th>\n",
              "      <td>سبحان الله صارو العملاء يدعون الالهيه وهم يتنب...</td>\n",
              "      <td>T</td>\n",
              "    </tr>\n",
              "    <tr>\n",
              "      <th>2</th>\n",
              "      <td>الحاصل ان الحكام العملاء الذين افنوا اعمارهم ف...</td>\n",
              "      <td>T</td>\n",
              "    </tr>\n",
              "    <tr>\n",
              "      <th>3</th>\n",
              "      <td>الوصف المثالي لسنه الي اشتغلتها في ماكدونالدز ...</td>\n",
              "      <td>T</td>\n",
              "    </tr>\n",
              "    <tr>\n",
              "      <th>4</th>\n",
              "      <td>نطالب بحاكم مسلم الان لاصلاح السودان وطرد العم...</td>\n",
              "      <td>T</td>\n",
              "    </tr>\n",
              "    <tr>\n",
              "      <th>...</th>\n",
              "      <td>...</td>\n",
              "      <td>...</td>\n",
              "    </tr>\n",
              "    <tr>\n",
              "      <th>55891</th>\n",
              "      <td>كلناسلمانكلنامحمداوامر خير لشعب الخيربالنسبه ...</td>\n",
              "      <td>F</td>\n",
              "    </tr>\n",
              "    <tr>\n",
              "      <th>55892</th>\n",
              "      <td>اوجعتي قلبي حسبي الله وكفي كلنا امل في حكومه...</td>\n",
              "      <td>F</td>\n",
              "    </tr>\n",
              "    <tr>\n",
              "      <th>55893</th>\n",
              "      <td>كلناثقهفيمحمدبنسلماناوطنا دون حدك اسود ال سعود...</td>\n",
              "      <td>F</td>\n",
              "    </tr>\n",
              "    <tr>\n",
              "      <th>55894</th>\n",
              "      <td>اوف لا والله طالت وشمخت لا الوضع ماينسكت علي...</td>\n",
              "      <td>F</td>\n",
              "    </tr>\n",
              "    <tr>\n",
              "      <th>55895</th>\n",
              "      <td>٩٠عامفوقهامالسحب  اوفر حسابات نتفلكس وعندنا عر...</td>\n",
              "      <td>F</td>\n",
              "    </tr>\n",
              "  </tbody>\n",
              "</table>\n",
              "<p>55896 rows × 2 columns</p>\n",
              "</div>\n",
              "      <button class=\"colab-df-convert\" onclick=\"convertToInteractive('df-a172d816-a64b-4be6-8baf-1fa0894acad1')\"\n",
              "              title=\"Convert this dataframe to an interactive table.\"\n",
              "              style=\"display:none;\">\n",
              "        \n",
              "  <svg xmlns=\"http://www.w3.org/2000/svg\" height=\"24px\"viewBox=\"0 0 24 24\"\n",
              "       width=\"24px\">\n",
              "    <path d=\"M0 0h24v24H0V0z\" fill=\"none\"/>\n",
              "    <path d=\"M18.56 5.44l.94 2.06.94-2.06 2.06-.94-2.06-.94-.94-2.06-.94 2.06-2.06.94zm-11 1L8.5 8.5l.94-2.06 2.06-.94-2.06-.94L8.5 2.5l-.94 2.06-2.06.94zm10 10l.94 2.06.94-2.06 2.06-.94-2.06-.94-.94-2.06-.94 2.06-2.06.94z\"/><path d=\"M17.41 7.96l-1.37-1.37c-.4-.4-.92-.59-1.43-.59-.52 0-1.04.2-1.43.59L10.3 9.45l-7.72 7.72c-.78.78-.78 2.05 0 2.83L4 21.41c.39.39.9.59 1.41.59.51 0 1.02-.2 1.41-.59l7.78-7.78 2.81-2.81c.8-.78.8-2.07 0-2.86zM5.41 20L4 18.59l7.72-7.72 1.47 1.35L5.41 20z\"/>\n",
              "  </svg>\n",
              "      </button>\n",
              "      \n",
              "  <style>\n",
              "    .colab-df-container {\n",
              "      display:flex;\n",
              "      flex-wrap:wrap;\n",
              "      gap: 12px;\n",
              "    }\n",
              "\n",
              "    .colab-df-convert {\n",
              "      background-color: #E8F0FE;\n",
              "      border: none;\n",
              "      border-radius: 50%;\n",
              "      cursor: pointer;\n",
              "      display: none;\n",
              "      fill: #1967D2;\n",
              "      height: 32px;\n",
              "      padding: 0 0 0 0;\n",
              "      width: 32px;\n",
              "    }\n",
              "\n",
              "    .colab-df-convert:hover {\n",
              "      background-color: #E2EBFA;\n",
              "      box-shadow: 0px 1px 2px rgba(60, 64, 67, 0.3), 0px 1px 3px 1px rgba(60, 64, 67, 0.15);\n",
              "      fill: #174EA6;\n",
              "    }\n",
              "\n",
              "    [theme=dark] .colab-df-convert {\n",
              "      background-color: #3B4455;\n",
              "      fill: #D2E3FC;\n",
              "    }\n",
              "\n",
              "    [theme=dark] .colab-df-convert:hover {\n",
              "      background-color: #434B5C;\n",
              "      box-shadow: 0px 1px 3px 1px rgba(0, 0, 0, 0.15);\n",
              "      filter: drop-shadow(0px 1px 2px rgba(0, 0, 0, 0.3));\n",
              "      fill: #FFFFFF;\n",
              "    }\n",
              "  </style>\n",
              "\n",
              "      <script>\n",
              "        const buttonEl =\n",
              "          document.querySelector('#df-a172d816-a64b-4be6-8baf-1fa0894acad1 button.colab-df-convert');\n",
              "        buttonEl.style.display =\n",
              "          google.colab.kernel.accessAllowed ? 'block' : 'none';\n",
              "\n",
              "        async function convertToInteractive(key) {\n",
              "          const element = document.querySelector('#df-a172d816-a64b-4be6-8baf-1fa0894acad1');\n",
              "          const dataTable =\n",
              "            await google.colab.kernel.invokeFunction('convertToInteractive',\n",
              "                                                     [key], {});\n",
              "          if (!dataTable) return;\n",
              "\n",
              "          const docLinkHtml = 'Like what you see? Visit the ' +\n",
              "            '<a target=\"_blank\" href=https://colab.research.google.com/notebooks/data_table.ipynb>data table notebook</a>'\n",
              "            + ' to learn more about interactive tables.';\n",
              "          element.innerHTML = '';\n",
              "          dataTable['output_type'] = 'display_data';\n",
              "          await google.colab.output.renderOutput(dataTable, element);\n",
              "          const docLink = document.createElement('div');\n",
              "          docLink.innerHTML = docLinkHtml;\n",
              "          element.appendChild(docLink);\n",
              "        }\n",
              "      </script>\n",
              "    </div>\n",
              "  </div>\n",
              "  "
            ]
          },
          "metadata": {},
          "execution_count": 129
        }
      ]
    },
    {
      "cell_type": "code",
      "source": [
        "data.isna().sum()"
      ],
      "metadata": {
        "colab": {
          "base_uri": "https://localhost:8080/"
        },
        "id": "9r5ocFj2Ruz-",
        "outputId": "cbc37d45-21b0-4158-fcae-1efcadea4535"
      },
      "execution_count": 130,
      "outputs": [
        {
          "output_type": "execute_result",
          "data": {
            "text/plain": [
              "text     0\n",
              "Label    0\n",
              "dtype: int64"
            ]
          },
          "metadata": {},
          "execution_count": 130
        }
      ]
    },
    {
      "cell_type": "code",
      "source": [
        "data[\"Label\"] = data[\"Label\"].map({'T': 1,'F' :0 })"
      ],
      "metadata": {
        "id": "5YXJIRmZbGSP"
      },
      "execution_count": 131,
      "outputs": []
    },
    {
      "cell_type": "code",
      "source": [
        "data"
      ],
      "metadata": {
        "colab": {
          "base_uri": "https://localhost:8080/",
          "height": 423
        },
        "id": "PuoWeKd7bQw8",
        "outputId": "c7332366-b10d-4560-dba1-cff9119ee0ab"
      },
      "execution_count": 132,
      "outputs": [
        {
          "output_type": "execute_result",
          "data": {
            "text/plain": [
              "                                                    text  Label\n",
              "0        كلام عين العقل دكتاتور علي العملاء والخونه ع...      0\n",
              "1      سبحان الله صارو العملاء يدعون الالهيه وهم يتنب...      1\n",
              "2      الحاصل ان الحكام العملاء الذين افنوا اعمارهم ف...      1\n",
              "3      الوصف المثالي لسنه الي اشتغلتها في ماكدونالدز ...      1\n",
              "4      نطالب بحاكم مسلم الان لاصلاح السودان وطرد العم...      1\n",
              "...                                                  ...    ...\n",
              "55891   كلناسلمانكلنامحمداوامر خير لشعب الخيربالنسبه ...      0\n",
              "55892    اوجعتي قلبي حسبي الله وكفي كلنا امل في حكومه...      0\n",
              "55893  كلناثقهفيمحمدبنسلماناوطنا دون حدك اسود ال سعود...      0\n",
              "55894    اوف لا والله طالت وشمخت لا الوضع ماينسكت علي...      0\n",
              "55895  ٩٠عامفوقهامالسحب  اوفر حسابات نتفلكس وعندنا عر...      0\n",
              "\n",
              "[55896 rows x 2 columns]"
            ],
            "text/html": [
              "\n",
              "  <div id=\"df-f6d2d6ed-3004-43ad-98fc-f698cce9a1fc\">\n",
              "    <div class=\"colab-df-container\">\n",
              "      <div>\n",
              "<style scoped>\n",
              "    .dataframe tbody tr th:only-of-type {\n",
              "        vertical-align: middle;\n",
              "    }\n",
              "\n",
              "    .dataframe tbody tr th {\n",
              "        vertical-align: top;\n",
              "    }\n",
              "\n",
              "    .dataframe thead th {\n",
              "        text-align: right;\n",
              "    }\n",
              "</style>\n",
              "<table border=\"1\" class=\"dataframe\">\n",
              "  <thead>\n",
              "    <tr style=\"text-align: right;\">\n",
              "      <th></th>\n",
              "      <th>text</th>\n",
              "      <th>Label</th>\n",
              "    </tr>\n",
              "  </thead>\n",
              "  <tbody>\n",
              "    <tr>\n",
              "      <th>0</th>\n",
              "      <td>كلام عين العقل دكتاتور علي العملاء والخونه ع...</td>\n",
              "      <td>0</td>\n",
              "    </tr>\n",
              "    <tr>\n",
              "      <th>1</th>\n",
              "      <td>سبحان الله صارو العملاء يدعون الالهيه وهم يتنب...</td>\n",
              "      <td>1</td>\n",
              "    </tr>\n",
              "    <tr>\n",
              "      <th>2</th>\n",
              "      <td>الحاصل ان الحكام العملاء الذين افنوا اعمارهم ف...</td>\n",
              "      <td>1</td>\n",
              "    </tr>\n",
              "    <tr>\n",
              "      <th>3</th>\n",
              "      <td>الوصف المثالي لسنه الي اشتغلتها في ماكدونالدز ...</td>\n",
              "      <td>1</td>\n",
              "    </tr>\n",
              "    <tr>\n",
              "      <th>4</th>\n",
              "      <td>نطالب بحاكم مسلم الان لاصلاح السودان وطرد العم...</td>\n",
              "      <td>1</td>\n",
              "    </tr>\n",
              "    <tr>\n",
              "      <th>...</th>\n",
              "      <td>...</td>\n",
              "      <td>...</td>\n",
              "    </tr>\n",
              "    <tr>\n",
              "      <th>55891</th>\n",
              "      <td>كلناسلمانكلنامحمداوامر خير لشعب الخيربالنسبه ...</td>\n",
              "      <td>0</td>\n",
              "    </tr>\n",
              "    <tr>\n",
              "      <th>55892</th>\n",
              "      <td>اوجعتي قلبي حسبي الله وكفي كلنا امل في حكومه...</td>\n",
              "      <td>0</td>\n",
              "    </tr>\n",
              "    <tr>\n",
              "      <th>55893</th>\n",
              "      <td>كلناثقهفيمحمدبنسلماناوطنا دون حدك اسود ال سعود...</td>\n",
              "      <td>0</td>\n",
              "    </tr>\n",
              "    <tr>\n",
              "      <th>55894</th>\n",
              "      <td>اوف لا والله طالت وشمخت لا الوضع ماينسكت علي...</td>\n",
              "      <td>0</td>\n",
              "    </tr>\n",
              "    <tr>\n",
              "      <th>55895</th>\n",
              "      <td>٩٠عامفوقهامالسحب  اوفر حسابات نتفلكس وعندنا عر...</td>\n",
              "      <td>0</td>\n",
              "    </tr>\n",
              "  </tbody>\n",
              "</table>\n",
              "<p>55896 rows × 2 columns</p>\n",
              "</div>\n",
              "      <button class=\"colab-df-convert\" onclick=\"convertToInteractive('df-f6d2d6ed-3004-43ad-98fc-f698cce9a1fc')\"\n",
              "              title=\"Convert this dataframe to an interactive table.\"\n",
              "              style=\"display:none;\">\n",
              "        \n",
              "  <svg xmlns=\"http://www.w3.org/2000/svg\" height=\"24px\"viewBox=\"0 0 24 24\"\n",
              "       width=\"24px\">\n",
              "    <path d=\"M0 0h24v24H0V0z\" fill=\"none\"/>\n",
              "    <path d=\"M18.56 5.44l.94 2.06.94-2.06 2.06-.94-2.06-.94-.94-2.06-.94 2.06-2.06.94zm-11 1L8.5 8.5l.94-2.06 2.06-.94-2.06-.94L8.5 2.5l-.94 2.06-2.06.94zm10 10l.94 2.06.94-2.06 2.06-.94-2.06-.94-.94-2.06-.94 2.06-2.06.94z\"/><path d=\"M17.41 7.96l-1.37-1.37c-.4-.4-.92-.59-1.43-.59-.52 0-1.04.2-1.43.59L10.3 9.45l-7.72 7.72c-.78.78-.78 2.05 0 2.83L4 21.41c.39.39.9.59 1.41.59.51 0 1.02-.2 1.41-.59l7.78-7.78 2.81-2.81c.8-.78.8-2.07 0-2.86zM5.41 20L4 18.59l7.72-7.72 1.47 1.35L5.41 20z\"/>\n",
              "  </svg>\n",
              "      </button>\n",
              "      \n",
              "  <style>\n",
              "    .colab-df-container {\n",
              "      display:flex;\n",
              "      flex-wrap:wrap;\n",
              "      gap: 12px;\n",
              "    }\n",
              "\n",
              "    .colab-df-convert {\n",
              "      background-color: #E8F0FE;\n",
              "      border: none;\n",
              "      border-radius: 50%;\n",
              "      cursor: pointer;\n",
              "      display: none;\n",
              "      fill: #1967D2;\n",
              "      height: 32px;\n",
              "      padding: 0 0 0 0;\n",
              "      width: 32px;\n",
              "    }\n",
              "\n",
              "    .colab-df-convert:hover {\n",
              "      background-color: #E2EBFA;\n",
              "      box-shadow: 0px 1px 2px rgba(60, 64, 67, 0.3), 0px 1px 3px 1px rgba(60, 64, 67, 0.15);\n",
              "      fill: #174EA6;\n",
              "    }\n",
              "\n",
              "    [theme=dark] .colab-df-convert {\n",
              "      background-color: #3B4455;\n",
              "      fill: #D2E3FC;\n",
              "    }\n",
              "\n",
              "    [theme=dark] .colab-df-convert:hover {\n",
              "      background-color: #434B5C;\n",
              "      box-shadow: 0px 1px 3px 1px rgba(0, 0, 0, 0.15);\n",
              "      filter: drop-shadow(0px 1px 2px rgba(0, 0, 0, 0.3));\n",
              "      fill: #FFFFFF;\n",
              "    }\n",
              "  </style>\n",
              "\n",
              "      <script>\n",
              "        const buttonEl =\n",
              "          document.querySelector('#df-f6d2d6ed-3004-43ad-98fc-f698cce9a1fc button.colab-df-convert');\n",
              "        buttonEl.style.display =\n",
              "          google.colab.kernel.accessAllowed ? 'block' : 'none';\n",
              "\n",
              "        async function convertToInteractive(key) {\n",
              "          const element = document.querySelector('#df-f6d2d6ed-3004-43ad-98fc-f698cce9a1fc');\n",
              "          const dataTable =\n",
              "            await google.colab.kernel.invokeFunction('convertToInteractive',\n",
              "                                                     [key], {});\n",
              "          if (!dataTable) return;\n",
              "\n",
              "          const docLinkHtml = 'Like what you see? Visit the ' +\n",
              "            '<a target=\"_blank\" href=https://colab.research.google.com/notebooks/data_table.ipynb>data table notebook</a>'\n",
              "            + ' to learn more about interactive tables.';\n",
              "          element.innerHTML = '';\n",
              "          dataTable['output_type'] = 'display_data';\n",
              "          await google.colab.output.renderOutput(dataTable, element);\n",
              "          const docLink = document.createElement('div');\n",
              "          docLink.innerHTML = docLinkHtml;\n",
              "          element.appendChild(docLink);\n",
              "        }\n",
              "      </script>\n",
              "    </div>\n",
              "  </div>\n",
              "  "
            ]
          },
          "metadata": {},
          "execution_count": 132
        }
      ]
    },
    {
      "cell_type": "markdown",
      "source": [
        "# Graghing data"
      ],
      "metadata": {
        "id": "latbLGGcvXaU"
      }
    },
    {
      "cell_type": "code",
      "source": [
        "data[\"Label\"].value_counts()"
      ],
      "metadata": {
        "colab": {
          "base_uri": "https://localhost:8080/"
        },
        "id": "imPB4_FndS-Q",
        "outputId": "9b04c436-b37a-4926-cf47-bb11a3e96c6e"
      },
      "execution_count": 144,
      "outputs": [
        {
          "output_type": "execute_result",
          "data": {
            "text/plain": [
              "1    45428\n",
              "0    10468\n",
              "Name: Label, dtype: int64"
            ]
          },
          "metadata": {},
          "execution_count": 144
        }
      ]
    },
    {
      "cell_type": "code",
      "source": [
        "fig = plt.figure(figsize =(2, 4))\n",
        "plt.bar(data['Label'].value_counts().index, data['Label'].value_counts(),color ='#DCA99A');\n",
        "plt.title(\"Distribution of dialects\");"
      ],
      "metadata": {
        "colab": {
          "base_uri": "https://localhost:8080/",
          "height": 395
        },
        "id": "tzMs6vFnZ-9Z",
        "outputId": "ebce9f1d-ed5c-45d4-c828-0d76ca190505"
      },
      "execution_count": 211,
      "outputs": [
        {
          "output_type": "display_data",
          "data": {
            "text/plain": [
              "<Figure size 200x400 with 1 Axes>"
            ],
            "image/png": "[encoded data removed]"
          },
          "metadata": {}
        }
      ]
    },
    {
      "cell_type": "code",
      "source": [
        "label_count = data['Label'].value_counts()\n",
        "labels = ['True', 'False']\n",
        "\n",
        "plt.pie(label_count, labels=labels, autopct='%1.1f%%')\n",
        "\n",
        "plt.show()\n",
        "\n",
        "print(label_count[0] / label_count[1])"
      ],
      "metadata": {
        "colab": {
          "base_uri": "https://localhost:8080/",
          "height": 423
        },
        "id": "mtZurb7Ssbvd",
        "outputId": "fb0da116-8e5c-4c0b-ec53-a585e602f2c0"
      },
      "execution_count": 212,
      "outputs": [
        {
          "output_type": "display_data",
          "data": {
            "text/plain": [
              "<Figure size 640x480 with 1 Axes>"
            ],
            "image/png": "[encoded data removed]"
          },
          "metadata": {}
        },
        {
          "output_type": "stream",
          "name": "stdout",
          "text": [
            "0.23043057145372897\n"
          ]
        }
      ]
    },
    {
      "cell_type": "code",
      "source": [
        "data['text lenght'] = data['text'].map(lambda i: len(i.split()))"
      ],
      "metadata": {
        "id": "liZ74nvym8Eh"
      },
      "execution_count": 173,
      "outputs": []
    },
    {
      "cell_type": "code",
      "source": [
        "data[['text lenght']].hist(bins = 30)\n",
        "plt.show()"
      ],
      "metadata": {
        "colab": {
          "base_uri": "https://localhost:8080/",
          "height": 457
        },
        "id": "uM3TPxMUfQRp",
        "outputId": "7e87f428-5fa2-4a1c-f008-c16ecc0841c4"
      },
      "execution_count": 174,
      "outputs": [
        {
          "output_type": "display_data",
          "data": {
            "text/plain": [
              "<Figure size 640x480 with 1 Axes>"
            ],
            "image/png": "[encoded data removed]"
          },
          "metadata": {}
        }
      ]
    },
    {
      "cell_type": "code",
      "source": [
        "data['text lenght'].max()"
      ],
      "metadata": {
        "colab": {
          "base_uri": "https://localhost:8080/"
        },
        "id": "_CYYPB6qjSHK",
        "outputId": "e0c7cc21-5831-40a9-ac23-eabdc8c9848a"
      },
      "execution_count": 176,
      "outputs": [
        {
          "output_type": "execute_result",
          "data": {
            "text/plain": [
              "61"
            ]
          },
          "metadata": {},
          "execution_count": 176
        }
      ]
    },
    {
      "cell_type": "code",
      "source": [],
      "metadata": {
        "id": "NsNpz-rEoicK"
      },
      "execution_count": null,
      "outputs": []
    }
  ]
}